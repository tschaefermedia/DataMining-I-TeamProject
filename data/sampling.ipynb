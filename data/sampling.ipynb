{
 "cells": [
  {
   "cell_type": "code",
   "execution_count": null,
   "metadata": {},
   "outputs": [],
   "source": [
    "import numpy as np\n",
    "import pandas as pd\n",
    "\n",
    "df_original = pd.read_csv(\"original_dataset_credit_score_corrected.csv\")"
   ]
  },
  {
   "cell_type": "code",
   "execution_count": null,
   "metadata": {},
   "outputs": [],
   "source": [
    "X2 = df_original.drop('Loan Status',1)\n",
    "Y2 = df_original['Loan Status']"
   ]
  },
  {
   "cell_type": "code",
   "execution_count": null,
   "metadata": {},
   "outputs": [],
   "source": [
    "###########################################Creating the new csv with Feature Tools created features ##############\n",
    "import sklearn.feature_selection \n",
    "\n",
    "#Such a large set of features may cause over fitting  and also slow computing\n",
    "#Use feature selection  to select the most importatnt features\n",
    "\n",
    "select = sklearn.feature_selection.SelectKBest(k=11)\n",
    "selected_features = select.fit(X2, Y2)\n",
    "indices_selected = selected_features.get_support(indices=True)\n",
    "colnames_selected = [X2.columns[i] for i in indices_selected]\n",
    "\n",
    "X2 = X2[colnames_selected]"
   ]
  },
  {
   "cell_type": "code",
   "execution_count": null,
   "metadata": {},
   "outputs": [],
   "source": [
    "from sklearn.model_selection import train_test_split\n",
    "X_train, X_test, y_train, y_test = train_test_split(X2, Y2,\n",
    "                                                    stratify=Y2, \n",
    "                                                    test_size=0.20)"
   ]
  },
  {
   "cell_type": "code",
   "execution_count": null,
   "metadata": {},
   "outputs": [],
   "source": [
    "############################### Down Sampling of majority class #####################################\n",
    "\n",
    "from sklearn.utils import resample\n",
    "\n",
    "df_original = X_train.reset_index(drop=True).merge(y_train.reset_index(drop=True), left_index=True, right_index=True)\n",
    "\n",
    "# Separate majority and minority classes\n",
    "df_majority = df_original[df_original['Loan Status']==0]\n",
    "df_minority = df_original[df_original['Loan Status']==1]\n",
    " \n",
    "# Downsample majority class\n",
    "df_majority_downsampled = resample(df_majority, \n",
    "                                 replace=False,    # sample without replacement\n",
    "                                 n_samples=10000,     # to match minority class\n",
    "                                 random_state=123) # reproducible results\n",
    " \n",
    "# Combine minority class with downsampled majority class\n",
    "df_downsampled = pd.concat([df_majority_downsampled, df_minority])"
   ]
  },
  {
   "cell_type": "code",
   "execution_count": null,
   "metadata": {},
   "outputs": [],
   "source": []
  },
  {
   "cell_type": "code",
   "execution_count": null,
   "metadata": {},
   "outputs": [],
   "source": [
    "from sklearn.metrics import recall_score\n",
    "from imblearn.over_sampling import SMOTE\n",
    "\n",
    "X2 = df_downsampled.drop('Loan Status',1)\n",
    "Y2 = df_downsampled['Loan Status']\n",
    "\n",
    "sm = SMOTE(random_state=12, ratio = 1.0)\n",
    "X_train, y_train = sm.fit_sample(X2, Y2)"
   ]
  },
  {
   "cell_type": "code",
   "execution_count": null,
   "metadata": {},
   "outputs": [],
   "source": [
    "from sklearn.model_selection import cross_val_score, GridSearchCV\n",
    "from sklearn import svm as SVM\n",
    "from sklearn.model_selection import cross_validate, StratifiedKFold\n",
    "from sklearn.metrics import make_scorer\n",
    "\n",
    "cv = StratifiedKFold(n_splits=10, random_state=42)"
   ]
  },
  {
   "cell_type": "code",
   "execution_count": null,
   "metadata": {},
   "outputs": [],
   "source": [
    "################################### SVC Linear ##############################################\n",
    "from sklearn.svm import LinearSVC\n",
    "from sklearn.model_selection import GridSearchCV\n",
    "from sklearn.model_selection import RandomizedSearchCV\n",
    "import numpy\n",
    "#param values\n",
    "penal=[\"l2\"]\n",
    "losses=[\"hinge\",\"squared_hinge\"]\n",
    "a=numpy.arange(.0000000001, .0001, .00005)\n",
    "tolerance=a.tolist()\n",
    "c_regularization=range(10,5000,10)\n",
    "intercept_scale=range(1,100,4)\n",
    "max_iters=range(100,4000,100)\n",
    "#all param-val dictionary\n",
    "#grid_params_lr = dict('C':[C_regularization], 'penalty':[\"l1\",\"l2\"], 'intercept_scaling':[ntercept_scal_vals], 'max_iter':[max_iter_vals], 'solver' :[\"newton-cg\", \"llbfgs\", \"sag\"])\n",
    "grid_params_svm = dict(penalty=penal, loss=losses, tol=tolerance, C=c_regularization, max_iter=max_iters)\n",
    "#creating  grid instance  \n",
    "#KNeighborsClassifier(n_neighbors=5, weights=’uniform’, algorithm=’auto’, leaf_size=30, p=2)\n",
    "svm = LinearSVC(fit_intercept=False)\n",
    "#neigh_grid=GridSearchCV(knn,grid_params_nn,cv=10)\n",
    "svm_ins=RandomizedSearchCV(svm,grid_params_svm,cv=10,scoring=None,n_iter=1000)\n",
    "svm_ins.fit(X_train, y_train)"
   ]
  },
  {
   "cell_type": "code",
   "execution_count": null,
   "metadata": {},
   "outputs": [],
   "source": [
    "svm_ins.best_estimator_"
   ]
  },
  {
   "cell_type": "code",
   "execution_count": null,
   "metadata": {},
   "outputs": [],
   "source": [
    "svm_ins.best_score_"
   ]
  },
  {
   "cell_type": "code",
   "execution_count": null,
   "metadata": {},
   "outputs": [],
   "source": [
    "from sklearn.metrics import classification_report\n",
    "\n",
    "####### i want to use svm_ins.best_estimator_ ################\n",
    "\n",
    "y_pred = svm_ins.predict(X_test)\n",
    "print(\"Classification Report:\")\n",
    "print(classification_report(y_test, y_pred))"
   ]
  },
  {
   "cell_type": "code",
   "execution_count": null,
   "metadata": {},
   "outputs": [],
   "source": []
  },
  {
   "cell_type": "code",
   "execution_count": null,
   "metadata": {},
   "outputs": [],
   "source": []
  }
 ],
 "metadata": {
  "kernelspec": {
   "display_name": "Python 3",
   "language": "python",
   "name": "python3"
  },
  "language_info": {
   "codemirror_mode": {
    "name": "ipython",
    "version": 3
   },
   "file_extension": ".py",
   "mimetype": "text/x-python",
   "name": "python",
   "nbconvert_exporter": "python",
   "pygments_lexer": "ipython3",
   "version": "3.7.1"
  }
 },
 "nbformat": 4,
 "nbformat_minor": 2
}
