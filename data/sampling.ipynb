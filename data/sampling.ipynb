{
 "cells": [
  {
   "cell_type": "code",
   "execution_count": 1,
   "metadata": {},
   "outputs": [],
   "source": [
    "import numpy as np\n",
    "import pandas as pd\n",
    "\n",
    "df_original = pd.read_csv(\"original_dataset_credit_score_corrected.csv\")"
   ]
  },
  {
   "cell_type": "code",
   "execution_count": 2,
   "metadata": {},
   "outputs": [],
   "source": [
    "X2 = df_original.drop('Loan Status',1)\n",
    "Y2 = df_original['Loan Status']"
   ]
  },
  {
   "cell_type": "code",
   "execution_count": 3,
   "metadata": {},
   "outputs": [],
   "source": [
    "###########################################Creating the new csv with Feature Tools created features ##############\n",
    "import sklearn.feature_selection \n",
    "\n",
    "#Such a large set of features may cause over fitting  and also slow computing\n",
    "#Use feature selection  to select the most importatnt features\n",
    "\n",
    "select = sklearn.feature_selection.SelectKBest(k=11)\n",
    "selected_features = select.fit(X2, Y2)\n",
    "indices_selected = selected_features.get_support(indices=True)\n",
    "colnames_selected = [X2.columns[i] for i in indices_selected]\n",
    "\n",
    "X2 = X2[colnames_selected]"
   ]
  },
  {
   "cell_type": "code",
   "execution_count": 4,
   "metadata": {},
   "outputs": [],
   "source": [
    "from sklearn.model_selection import train_test_split\n",
    "X_train, X_test, y_train, y_test = train_test_split(X2, Y2,\n",
    "                                                    stratify=Y2, \n",
    "                                                    test_size=0.25)"
   ]
  },
  {
   "cell_type": "code",
   "execution_count": 5,
   "metadata": {},
   "outputs": [],
   "source": [
    "############################### Down Sampling of majority class #####################################\n",
    "\n",
    "from sklearn.utils import resample\n",
    "\n",
    "df_original = X_train.reset_index(drop=True).merge(y_train.reset_index(drop=True), left_index=True, right_index=True)\n",
    "\n",
    "# Separate majority and minority classes\n",
    "df_majority = df_original[df_original['Loan Status']==0]\n",
    "df_minority = df_original[df_original['Loan Status']==1]\n",
    " \n",
    "# Downsample majority class\n",
    "df_majority_downsampled = resample(df_majority, \n",
    "                                 replace=False,    # sample without replacement\n",
    "                                 n_samples=10000,     # to match minority class\n",
    "                                 random_state=123) # reproducible results\n",
    " \n",
    "# Combine minority class with downsampled majority class\n",
    "df_downsampled = pd.concat([df_majority_downsampled, df_minority])"
   ]
  },
  {
   "cell_type": "code",
   "execution_count": null,
   "metadata": {},
   "outputs": [],
   "source": []
  },
  {
   "cell_type": "code",
   "execution_count": 6,
   "metadata": {},
   "outputs": [
    {
     "name": "stderr",
     "output_type": "stream",
     "text": [
      "/home/admin/.local/lib/python3.5/site-packages/sklearn/externals/six.py:31: DeprecationWarning: The module is deprecated in version 0.21 and will be removed in version 0.23 since we've dropped support for Python 2.7. Please rely on the official version of six (https://pypi.org/project/six/).\n",
      "  \"(https://pypi.org/project/six/).\", DeprecationWarning)\n"
     ]
    }
   ],
   "source": [
    "from sklearn.metrics import recall_score\n",
    "from imblearn.over_sampling import SMOTE\n",
    "\n",
    "X2 = df_downsampled.drop('Loan Status',1)\n",
    "Y2 = df_downsampled['Loan Status']\n",
    "\n",
    "sm = SMOTE(random_state=12, ratio = 1.0)\n",
    "X_train, y_train = sm.fit_sample(X2, Y2)"
   ]
  },
  {
   "cell_type": "code",
   "execution_count": 7,
   "metadata": {},
   "outputs": [],
   "source": [
    "from sklearn.model_selection import cross_val_score, GridSearchCV\n",
    "from sklearn import svm as SVM\n",
    "from sklearn.model_selection import cross_validate, StratifiedKFold\n",
    "from sklearn.metrics import make_scorer\n",
    "\n",
    "cv = StratifiedKFold(n_splits=10, random_state=42)"
   ]
  },
  {
   "cell_type": "code",
   "execution_count": 10,
   "metadata": {},
   "outputs": [
    {
     "name": "stdout",
     "output_type": "stream",
     "text": [
      "Fitting 10 folds for each of 1000 candidates, totalling 10000 fits\n"
     ]
    },
    {
     "name": "stderr",
     "output_type": "stream",
     "text": [
      "[Parallel(n_jobs=-1)]: Using backend LokyBackend with 8 concurrent workers.\n",
      "[Parallel(n_jobs=-1)]: Done   2 tasks      | elapsed:    4.8s\n",
      "[Parallel(n_jobs=-1)]: Done   9 tasks      | elapsed:    8.9s\n",
      "[Parallel(n_jobs=-1)]: Done  16 tasks      | elapsed:   18.2s\n",
      "[Parallel(n_jobs=-1)]: Done  25 tasks      | elapsed:   30.5s\n",
      "[Parallel(n_jobs=-1)]: Done  34 tasks      | elapsed:   42.3s\n",
      "[Parallel(n_jobs=-1)]: Done  45 tasks      | elapsed:   56.4s\n",
      "[Parallel(n_jobs=-1)]: Done  56 tasks      | elapsed:  1.1min\n",
      "[Parallel(n_jobs=-1)]: Done  69 tasks      | elapsed:  1.5min\n",
      "[Parallel(n_jobs=-1)]: Done  82 tasks      | elapsed:  1.7min\n",
      "[Parallel(n_jobs=-1)]: Done  97 tasks      | elapsed:  1.9min\n",
      "[Parallel(n_jobs=-1)]: Done 112 tasks      | elapsed:  2.1min\n",
      "[Parallel(n_jobs=-1)]: Done 129 tasks      | elapsed:  2.2min\n",
      "[Parallel(n_jobs=-1)]: Done 146 tasks      | elapsed:  2.4min\n",
      "[Parallel(n_jobs=-1)]: Done 165 tasks      | elapsed:  2.6min\n",
      "[Parallel(n_jobs=-1)]: Done 184 tasks      | elapsed:  3.0min\n",
      "[Parallel(n_jobs=-1)]: Done 205 tasks      | elapsed:  3.4min\n",
      "[Parallel(n_jobs=-1)]: Done 226 tasks      | elapsed:  3.7min\n",
      "[Parallel(n_jobs=-1)]: Done 249 tasks      | elapsed:  3.8min\n",
      "[Parallel(n_jobs=-1)]: Done 272 tasks      | elapsed:  4.3min\n",
      "[Parallel(n_jobs=-1)]: Done 297 tasks      | elapsed:  4.7min\n",
      "[Parallel(n_jobs=-1)]: Done 322 tasks      | elapsed:  4.9min\n",
      "[Parallel(n_jobs=-1)]: Done 349 tasks      | elapsed:  5.1min\n",
      "[Parallel(n_jobs=-1)]: Done 376 tasks      | elapsed:  5.8min\n",
      "[Parallel(n_jobs=-1)]: Done 405 tasks      | elapsed:  6.2min\n",
      "[Parallel(n_jobs=-1)]: Done 434 tasks      | elapsed:  6.8min\n",
      "[Parallel(n_jobs=-1)]: Done 465 tasks      | elapsed:  7.3min\n",
      "[Parallel(n_jobs=-1)]: Done 496 tasks      | elapsed:  7.9min\n",
      "[Parallel(n_jobs=-1)]: Done 529 tasks      | elapsed:  8.5min\n",
      "[Parallel(n_jobs=-1)]: Done 562 tasks      | elapsed:  9.0min\n",
      "[Parallel(n_jobs=-1)]: Done 597 tasks      | elapsed:  9.6min\n",
      "[Parallel(n_jobs=-1)]: Done 632 tasks      | elapsed: 10.1min\n",
      "[Parallel(n_jobs=-1)]: Done 669 tasks      | elapsed: 10.6min\n",
      "[Parallel(n_jobs=-1)]: Done 706 tasks      | elapsed: 11.2min\n",
      "[Parallel(n_jobs=-1)]: Done 745 tasks      | elapsed: 11.8min\n",
      "[Parallel(n_jobs=-1)]: Done 784 tasks      | elapsed: 12.3min\n",
      "[Parallel(n_jobs=-1)]: Done 825 tasks      | elapsed: 12.9min\n",
      "[Parallel(n_jobs=-1)]: Done 866 tasks      | elapsed: 13.4min\n",
      "[Parallel(n_jobs=-1)]: Done 909 tasks      | elapsed: 14.1min\n",
      "[Parallel(n_jobs=-1)]: Done 952 tasks      | elapsed: 14.8min\n",
      "[Parallel(n_jobs=-1)]: Done 997 tasks      | elapsed: 15.6min\n",
      "[Parallel(n_jobs=-1)]: Done 1042 tasks      | elapsed: 16.4min\n",
      "[Parallel(n_jobs=-1)]: Done 1089 tasks      | elapsed: 17.0min\n",
      "[Parallel(n_jobs=-1)]: Done 1136 tasks      | elapsed: 17.9min\n",
      "[Parallel(n_jobs=-1)]: Done 1185 tasks      | elapsed: 18.7min\n",
      "[Parallel(n_jobs=-1)]: Done 1234 tasks      | elapsed: 19.3min\n",
      "[Parallel(n_jobs=-1)]: Done 1285 tasks      | elapsed: 20.2min\n",
      "[Parallel(n_jobs=-1)]: Done 1336 tasks      | elapsed: 20.8min\n",
      "[Parallel(n_jobs=-1)]: Done 1389 tasks      | elapsed: 21.8min\n",
      "[Parallel(n_jobs=-1)]: Done 1442 tasks      | elapsed: 22.5min\n",
      "[Parallel(n_jobs=-1)]: Done 1497 tasks      | elapsed: 23.4min\n",
      "[Parallel(n_jobs=-1)]: Done 1552 tasks      | elapsed: 24.3min\n",
      "[Parallel(n_jobs=-1)]: Done 1609 tasks      | elapsed: 25.2min\n",
      "[Parallel(n_jobs=-1)]: Done 1666 tasks      | elapsed: 26.0min\n",
      "[Parallel(n_jobs=-1)]: Done 1725 tasks      | elapsed: 27.1min\n",
      "[Parallel(n_jobs=-1)]: Done 1784 tasks      | elapsed: 27.9min\n",
      "[Parallel(n_jobs=-1)]: Done 1845 tasks      | elapsed: 28.9min\n",
      "[Parallel(n_jobs=-1)]: Done 1906 tasks      | elapsed: 29.7min\n",
      "[Parallel(n_jobs=-1)]: Done 1969 tasks      | elapsed: 30.5min\n",
      "[Parallel(n_jobs=-1)]: Done 2032 tasks      | elapsed: 31.4min\n",
      "[Parallel(n_jobs=-1)]: Done 2097 tasks      | elapsed: 32.7min\n",
      "[Parallel(n_jobs=-1)]: Done 2162 tasks      | elapsed: 33.8min\n",
      "[Parallel(n_jobs=-1)]: Done 2229 tasks      | elapsed: 34.7min\n",
      "[Parallel(n_jobs=-1)]: Done 2296 tasks      | elapsed: 35.8min\n",
      "[Parallel(n_jobs=-1)]: Done 2365 tasks      | elapsed: 36.8min\n",
      "[Parallel(n_jobs=-1)]: Done 2434 tasks      | elapsed: 37.7min\n",
      "[Parallel(n_jobs=-1)]: Done 2505 tasks      | elapsed: 38.6min\n",
      "[Parallel(n_jobs=-1)]: Done 2576 tasks      | elapsed: 39.8min\n",
      "[Parallel(n_jobs=-1)]: Done 2649 tasks      | elapsed: 41.0min\n",
      "[Parallel(n_jobs=-1)]: Done 2722 tasks      | elapsed: 42.0min\n",
      "[Parallel(n_jobs=-1)]: Done 2797 tasks      | elapsed: 43.5min\n",
      "[Parallel(n_jobs=-1)]: Done 2872 tasks      | elapsed: 45.0min\n",
      "[Parallel(n_jobs=-1)]: Done 2949 tasks      | elapsed: 45.9min\n",
      "[Parallel(n_jobs=-1)]: Done 3026 tasks      | elapsed: 47.1min\n",
      "[Parallel(n_jobs=-1)]: Done 3105 tasks      | elapsed: 48.3min\n",
      "[Parallel(n_jobs=-1)]: Done 3184 tasks      | elapsed: 49.6min\n",
      "[Parallel(n_jobs=-1)]: Done 3265 tasks      | elapsed: 50.5min\n",
      "[Parallel(n_jobs=-1)]: Done 3346 tasks      | elapsed: 51.9min\n",
      "[Parallel(n_jobs=-1)]: Done 3429 tasks      | elapsed: 52.7min\n",
      "[Parallel(n_jobs=-1)]: Done 3512 tasks      | elapsed: 54.0min\n",
      "[Parallel(n_jobs=-1)]: Done 3597 tasks      | elapsed: 55.3min\n",
      "[Parallel(n_jobs=-1)]: Done 3682 tasks      | elapsed: 56.4min\n",
      "[Parallel(n_jobs=-1)]: Done 3769 tasks      | elapsed: 57.7min\n",
      "[Parallel(n_jobs=-1)]: Done 3856 tasks      | elapsed: 59.3min\n",
      "[Parallel(n_jobs=-1)]: Done 3945 tasks      | elapsed: 60.5min\n",
      "[Parallel(n_jobs=-1)]: Done 4034 tasks      | elapsed: 62.1min\n",
      "[Parallel(n_jobs=-1)]: Done 4125 tasks      | elapsed: 63.4min\n",
      "[Parallel(n_jobs=-1)]: Done 4216 tasks      | elapsed: 64.6min\n",
      "[Parallel(n_jobs=-1)]: Done 4309 tasks      | elapsed: 65.9min\n",
      "[Parallel(n_jobs=-1)]: Done 4402 tasks      | elapsed: 67.1min\n",
      "[Parallel(n_jobs=-1)]: Done 4497 tasks      | elapsed: 68.3min\n",
      "[Parallel(n_jobs=-1)]: Done 4592 tasks      | elapsed: 69.8min\n",
      "[Parallel(n_jobs=-1)]: Done 4689 tasks      | elapsed: 71.3min\n",
      "[Parallel(n_jobs=-1)]: Done 4786 tasks      | elapsed: 73.0min\n",
      "[Parallel(n_jobs=-1)]: Done 4885 tasks      | elapsed: 74.4min\n",
      "[Parallel(n_jobs=-1)]: Done 4984 tasks      | elapsed: 75.8min\n",
      "[Parallel(n_jobs=-1)]: Done 5085 tasks      | elapsed: 77.1min\n",
      "[Parallel(n_jobs=-1)]: Done 5186 tasks      | elapsed: 78.8min\n",
      "[Parallel(n_jobs=-1)]: Done 5289 tasks      | elapsed: 80.7min\n",
      "[Parallel(n_jobs=-1)]: Done 5392 tasks      | elapsed: 82.2min\n",
      "[Parallel(n_jobs=-1)]: Done 5497 tasks      | elapsed: 83.8min\n",
      "[Parallel(n_jobs=-1)]: Done 5602 tasks      | elapsed: 85.3min\n",
      "[Parallel(n_jobs=-1)]: Done 5709 tasks      | elapsed: 86.6min\n",
      "[Parallel(n_jobs=-1)]: Done 5816 tasks      | elapsed: 87.8min\n",
      "[Parallel(n_jobs=-1)]: Done 5925 tasks      | elapsed: 89.6min\n",
      "[Parallel(n_jobs=-1)]: Done 6034 tasks      | elapsed: 91.6min\n",
      "[Parallel(n_jobs=-1)]: Done 6145 tasks      | elapsed: 93.3min\n",
      "[Parallel(n_jobs=-1)]: Done 6256 tasks      | elapsed: 95.2min\n",
      "[Parallel(n_jobs=-1)]: Done 6369 tasks      | elapsed: 96.9min\n",
      "[Parallel(n_jobs=-1)]: Done 6482 tasks      | elapsed: 98.7min\n",
      "[Parallel(n_jobs=-1)]: Done 6597 tasks      | elapsed: 100.6min\n",
      "[Parallel(n_jobs=-1)]: Done 6712 tasks      | elapsed: 102.0min\n",
      "[Parallel(n_jobs=-1)]: Done 6829 tasks      | elapsed: 103.9min\n",
      "[Parallel(n_jobs=-1)]: Done 6946 tasks      | elapsed: 105.3min\n",
      "[Parallel(n_jobs=-1)]: Done 7065 tasks      | elapsed: 106.7min\n",
      "[Parallel(n_jobs=-1)]: Done 7184 tasks      | elapsed: 108.8min\n",
      "[Parallel(n_jobs=-1)]: Done 7305 tasks      | elapsed: 110.5min\n",
      "[Parallel(n_jobs=-1)]: Done 7426 tasks      | elapsed: 112.0min\n",
      "[Parallel(n_jobs=-1)]: Done 7549 tasks      | elapsed: 114.0min\n",
      "[Parallel(n_jobs=-1)]: Done 7672 tasks      | elapsed: 115.9min\n",
      "[Parallel(n_jobs=-1)]: Done 7797 tasks      | elapsed: 117.8min\n",
      "[Parallel(n_jobs=-1)]: Done 7922 tasks      | elapsed: 119.8min\n",
      "[Parallel(n_jobs=-1)]: Done 8049 tasks      | elapsed: 121.4min\n",
      "[Parallel(n_jobs=-1)]: Done 8176 tasks      | elapsed: 123.6min\n",
      "[Parallel(n_jobs=-1)]: Done 8305 tasks      | elapsed: 125.4min\n",
      "[Parallel(n_jobs=-1)]: Done 8434 tasks      | elapsed: 127.2min\n",
      "[Parallel(n_jobs=-1)]: Done 8565 tasks      | elapsed: 128.8min\n",
      "[Parallel(n_jobs=-1)]: Done 8696 tasks      | elapsed: 130.7min\n",
      "[Parallel(n_jobs=-1)]: Done 8829 tasks      | elapsed: 133.0min\n",
      "[Parallel(n_jobs=-1)]: Done 8962 tasks      | elapsed: 135.3min\n",
      "[Parallel(n_jobs=-1)]: Done 9097 tasks      | elapsed: 137.3min\n"
     ]
    },
    {
     "name": "stderr",
     "output_type": "stream",
     "text": [
      "[Parallel(n_jobs=-1)]: Done 9232 tasks      | elapsed: 139.2min\n",
      "[Parallel(n_jobs=-1)]: Done 9369 tasks      | elapsed: 141.6min\n",
      "[Parallel(n_jobs=-1)]: Done 9506 tasks      | elapsed: 143.6min\n",
      "[Parallel(n_jobs=-1)]: Done 9645 tasks      | elapsed: 145.3min\n",
      "[Parallel(n_jobs=-1)]: Done 9784 tasks      | elapsed: 147.5min\n",
      "[Parallel(n_jobs=-1)]: Done 9925 tasks      | elapsed: 149.7min\n",
      "[Parallel(n_jobs=-1)]: Done 10000 out of 10000 | elapsed: 150.6min finished\n",
      "/home/admin/.local/lib/python3.5/site-packages/sklearn/svm/base.py:929: ConvergenceWarning: Liblinear failed to converge, increase the number of iterations.\n",
      "  \"the number of iterations.\", ConvergenceWarning)\n"
     ]
    },
    {
     "data": {
      "text/plain": [
       "RandomizedSearchCV(cv=10, error_score='raise-deprecating',\n",
       "                   estimator=LinearSVC(C=1.0, class_weight=None, dual=True,\n",
       "                                       fit_intercept=False, intercept_scaling=1,\n",
       "                                       loss='squared_hinge', max_iter=1000,\n",
       "                                       multi_class='ovr', penalty='l2',\n",
       "                                       random_state=None, tol=0.0001,\n",
       "                                       verbose=0),\n",
       "                   iid='warn', n_iter=1000, n_jobs=-1,\n",
       "                   param_distributions={'C': range(10, 5000, 50),\n",
       "                                        'loss': ['hinge', 'squared_hinge'],\n",
       "                                        'max_iter': range(500, 4000, 100),\n",
       "                                        'penalty': ['l2'],\n",
       "                                        'tol': [1e-08, 5.0010000000000004e-05]},\n",
       "                   pre_dispatch='2*n_jobs', random_state=None, refit=True,\n",
       "                   return_train_score=False, scoring='recall', verbose=10)"
      ]
     },
     "execution_count": 10,
     "metadata": {},
     "output_type": "execute_result"
    }
   ],
   "source": [
    "################################### SVC Linear ##############################################\n",
    "from sklearn.svm import LinearSVC\n",
    "from sklearn.model_selection import GridSearchCV\n",
    "from sklearn.model_selection import RandomizedSearchCV\n",
    "import numpy\n",
    "#param values\n",
    "penal=[\"l2\"]\n",
    "losses=[\"hinge\",\"squared_hinge\"]\n",
    "a=numpy.arange(.00000001, .0001, .00005)\n",
    "tolerance=a.tolist()\n",
    "c_regularization=range(10,5000,50)\n",
    "intercept_scale=range(1,100,4)\n",
    "max_iters=range(500,4000,100)\n",
    "#all param-val dictionary\n",
    "#grid_params_lr = dict('C':[C_regularization], 'penalty':[\"l1\",\"l2\"], 'intercept_scaling':[ntercept_scal_vals], 'max_iter':[max_iter_vals], 'solver' :[\"newton-cg\", \"llbfgs\", \"sag\"])\n",
    "grid_params_svm = dict(penalty=penal, loss=losses, tol=tolerance, C=c_regularization, max_iter=max_iters)\n",
    "#creating  grid instance  \n",
    "#KNeighborsClassifier(n_neighbors=5, weights=’uniform’, algorithm=’auto’, leaf_size=30, p=2)\n",
    "svm = LinearSVC(fit_intercept=False)\n",
    "#neigh_grid=GridSearchCV(knn,grid_params_nn,cv=10)\n",
    "svm_ins=RandomizedSearchCV(svm, grid_params_svm,cv=10,scoring=\"recall\", verbose=10, n_jobs=-1, n_iter=1000)\n",
    "svm_ins.fit(X_train, y_train)"
   ]
  },
  {
   "cell_type": "code",
   "execution_count": 11,
   "metadata": {},
   "outputs": [
    {
     "data": {
      "text/plain": [
       "{'C': 10,\n",
       " 'loss': 'squared_hinge',\n",
       " 'max_iter': 3400,\n",
       " 'penalty': 'l2',\n",
       " 'tol': 1e-08}"
      ]
     },
     "execution_count": 11,
     "metadata": {},
     "output_type": "execute_result"
    }
   ],
   "source": [
    "svm = svm_ins.best_estimator_\n",
    "svm_ins.best_params_"
   ]
  },
  {
   "cell_type": "code",
   "execution_count": 12,
   "metadata": {},
   "outputs": [
    {
     "data": {
      "text/plain": [
       "0.9019"
      ]
     },
     "execution_count": 12,
     "metadata": {},
     "output_type": "execute_result"
    }
   ],
   "source": [
    "svm_ins.best_score_"
   ]
  },
  {
   "cell_type": "code",
   "execution_count": 13,
   "metadata": {},
   "outputs": [
    {
     "name": "stdout",
     "output_type": "stream",
     "text": [
      "Classification Report:\n",
      "              precision    recall  f1-score   support\n",
      "\n",
      "           0       0.94      0.32      0.47      7243\n",
      "           1       0.20      0.90      0.33      1374\n",
      "\n",
      "    accuracy                           0.41      8617\n",
      "   macro avg       0.57      0.61      0.40      8617\n",
      "weighted avg       0.82      0.41      0.45      8617\n",
      "\n"
     ]
    }
   ],
   "source": [
    "from sklearn.metrics import classification_report\n",
    "\n",
    "####### i want to use svm_ins.best_estimator_ ################\n",
    "\n",
    "y_pred = svm.predict(X_test)\n",
    "print(\"Classification Report:\")\n",
    "print(classification_report(y_test, y_pred))"
   ]
  },
  {
   "cell_type": "code",
   "execution_count": null,
   "metadata": {},
   "outputs": [],
   "source": []
  },
  {
   "cell_type": "code",
   "execution_count": null,
   "metadata": {},
   "outputs": [],
   "source": []
  }
 ],
 "metadata": {
  "kernelspec": {
   "display_name": "Python 3",
   "language": "python",
   "name": "python3"
  },
  "language_info": {
   "codemirror_mode": {
    "name": "ipython",
    "version": 3
   },
   "file_extension": ".py",
   "mimetype": "text/x-python",
   "name": "python",
   "nbconvert_exporter": "python",
   "pygments_lexer": "ipython3",
   "version": "3.5.3"
  }
 },
 "nbformat": 4,
 "nbformat_minor": 2
}
