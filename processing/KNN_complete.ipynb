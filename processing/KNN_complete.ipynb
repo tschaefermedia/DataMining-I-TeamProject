{
 "cells": [
  {
   "cell_type": "markdown",
   "metadata": {},
   "source": [
    "# KNN implementation with all possible data "
   ]
  },
  {
   "cell_type": "code",
   "execution_count": 1,
   "metadata": {},
   "outputs": [],
   "source": [
    "# imports\n",
    "from sklearn.neighbors import KNeighborsClassifier\n",
    "from sklearn.model_selection import GridSearchCV\n",
    "import importlib.util\n",
    "spec = importlib.util.spec_from_file_location(\"module.name\", \"../functions.py\")\n",
    "functions = importlib.util.module_from_spec(spec)\n",
    "spec.loader.exec_module(functions)\n",
    "from sklearn.model_selection import train_test_split\n",
    "from sklearn.metrics import f1_score,accuracy_score\n",
    "import pandas as pd\n",
    "\n",
    "# param values\n",
    "neighbors = range(1, 32, 2)\n",
    "weight = [\"uniform\", \"distance\"]\n",
    "pp = [1, 2]\n",
    "algo = [\"auto\"]\n",
    "metric = [\"minkowski\", \"manhattan\"]\n",
    "# creating  grid instance\n",
    "grid_params_nn = dict(n_neighbors=neighbors, weights=weight, p=pp, algorithm=algo, metric=metric)"
   ]
  },
  {
   "cell_type": "markdown",
   "metadata": {},
   "source": [
    "## KNN with just using default values"
   ]
  },
  {
   "cell_type": "code",
   "execution_count": 2,
   "metadata": {},
   "outputs": [],
   "source": [
    "# get data\n",
    "X, y = functions.get_data(type=\"_new\")\n",
    "# split dataset into train and test data\n",
    "X_train, X_test, y_train, y_test = train_test_split(X, y, test_size=0.25, random_state=10, stratify=y)"
   ]
  },
  {
   "cell_type": "code",
   "execution_count": 3,
   "metadata": {},
   "outputs": [
    {
     "data": {
      "text/plain": [
       "KNeighborsClassifier(algorithm='auto', leaf_size=30, metric='minkowski',\n",
       "                     metric_params=None, n_jobs=None, n_neighbors=5, p=2,\n",
       "                     weights='uniform')"
      ]
     },
     "execution_count": 3,
     "metadata": {},
     "output_type": "execute_result"
    }
   ],
   "source": [
    "knn = KNeighborsClassifier()\n",
    "knn.fit(X_train, y_train.values.ravel())"
   ]
  },
  {
   "cell_type": "code",
   "execution_count": 4,
   "metadata": {},
   "outputs": [],
   "source": [
    "# predict test values\n",
    "y_pred_basic = knn.predict(X_test)"
   ]
  },
  {
   "cell_type": "code",
   "execution_count": 5,
   "metadata": {},
   "outputs": [
    {
     "data": {
      "text/plain": [
       "'F1 score is = 0.08846584546472565'"
      ]
     },
     "execution_count": 5,
     "metadata": {},
     "output_type": "execute_result"
    }
   ],
   "source": [
    "# calculate F1 score\n",
    "f1_basic = f1_score(y_test, y_pred_basic)\n",
    "\"F1 score is = {0}\".format(f1_basic)"
   ]
  },
  {
   "cell_type": "code",
   "execution_count": 6,
   "metadata": {},
   "outputs": [
    {
     "name": "stdout",
     "output_type": "stream",
     "text": [
      "Fitting 10 folds for each of 128 candidates, totalling 1280 fits\n"
     ]
    },
    {
     "name": "stderr",
     "output_type": "stream",
     "text": [
      "[Parallel(n_jobs=-1)]: Using backend LokyBackend with 8 concurrent workers.\n",
      "[Parallel(n_jobs=-1)]: Done   2 tasks      | elapsed:   11.1s\n",
      "[Parallel(n_jobs=-1)]: Done   9 tasks      | elapsed:   19.2s\n",
      "[Parallel(n_jobs=-1)]: Done  16 tasks      | elapsed:   22.8s\n",
      "[Parallel(n_jobs=-1)]: Done  25 tasks      | elapsed:   35.9s\n",
      "[Parallel(n_jobs=-1)]: Done  34 tasks      | elapsed:   48.4s\n",
      "[Parallel(n_jobs=-1)]: Done  45 tasks      | elapsed:  1.0min\n",
      "[Parallel(n_jobs=-1)]: Done  56 tasks      | elapsed:  1.2min\n",
      "[Parallel(n_jobs=-1)]: Done  69 tasks      | elapsed:  1.5min\n",
      "[Parallel(n_jobs=-1)]: Done  82 tasks      | elapsed:  1.8min\n",
      "[Parallel(n_jobs=-1)]: Done  97 tasks      | elapsed:  2.1min\n",
      "[Parallel(n_jobs=-1)]: Done 112 tasks      | elapsed:  2.4min\n",
      "[Parallel(n_jobs=-1)]: Done 129 tasks      | elapsed:  2.8min\n",
      "[Parallel(n_jobs=-1)]: Done 146 tasks      | elapsed:  3.2min\n",
      "[Parallel(n_jobs=-1)]: Done 165 tasks      | elapsed:  3.6min\n",
      "[Parallel(n_jobs=-1)]: Done 184 tasks      | elapsed:  4.0min\n",
      "[Parallel(n_jobs=-1)]: Done 205 tasks      | elapsed:  4.4min\n",
      "[Parallel(n_jobs=-1)]: Done 226 tasks      | elapsed:  4.9min\n",
      "[Parallel(n_jobs=-1)]: Done 249 tasks      | elapsed:  5.4min\n",
      "[Parallel(n_jobs=-1)]: Done 272 tasks      | elapsed:  5.9min\n",
      "[Parallel(n_jobs=-1)]: Done 297 tasks      | elapsed:  6.5min\n",
      "[Parallel(n_jobs=-1)]: Done 322 tasks      | elapsed:  7.0min\n",
      "[Parallel(n_jobs=-1)]: Done 349 tasks      | elapsed:  7.6min\n",
      "[Parallel(n_jobs=-1)]: Done 376 tasks      | elapsed:  8.2min\n",
      "[Parallel(n_jobs=-1)]: Done 405 tasks      | elapsed:  8.8min\n",
      "[Parallel(n_jobs=-1)]: Done 434 tasks      | elapsed:  9.4min\n",
      "[Parallel(n_jobs=-1)]: Done 465 tasks      | elapsed: 10.1min\n",
      "[Parallel(n_jobs=-1)]: Done 496 tasks      | elapsed: 10.8min\n",
      "[Parallel(n_jobs=-1)]: Done 529 tasks      | elapsed: 11.6min\n",
      "[Parallel(n_jobs=-1)]: Done 562 tasks      | elapsed: 12.3min\n",
      "[Parallel(n_jobs=-1)]: Done 597 tasks      | elapsed: 13.0min\n",
      "[Parallel(n_jobs=-1)]: Done 632 tasks      | elapsed: 13.8min\n",
      "[Parallel(n_jobs=-1)]: Done 669 tasks      | elapsed: 14.5min\n",
      "[Parallel(n_jobs=-1)]: Done 706 tasks      | elapsed: 15.3min\n",
      "[Parallel(n_jobs=-1)]: Done 745 tasks      | elapsed: 16.1min\n",
      "[Parallel(n_jobs=-1)]: Done 784 tasks      | elapsed: 17.0min\n",
      "[Parallel(n_jobs=-1)]: Done 825 tasks      | elapsed: 18.0min\n",
      "[Parallel(n_jobs=-1)]: Done 866 tasks      | elapsed: 18.9min\n",
      "[Parallel(n_jobs=-1)]: Done 909 tasks      | elapsed: 19.9min\n",
      "[Parallel(n_jobs=-1)]: Done 952 tasks      | elapsed: 20.9min\n",
      "[Parallel(n_jobs=-1)]: Done 997 tasks      | elapsed: 21.9min\n",
      "[Parallel(n_jobs=-1)]: Done 1042 tasks      | elapsed: 22.9min\n",
      "[Parallel(n_jobs=-1)]: Done 1089 tasks      | elapsed: 24.0min\n",
      "[Parallel(n_jobs=-1)]: Done 1136 tasks      | elapsed: 25.0min\n",
      "[Parallel(n_jobs=-1)]: Done 1185 tasks      | elapsed: 26.1min\n",
      "[Parallel(n_jobs=-1)]: Done 1234 tasks      | elapsed: 27.3min\n",
      "[Parallel(n_jobs=-1)]: Done 1280 out of 1280 | elapsed: 28.3min finished\n"
     ]
    },
    {
     "data": {
      "text/plain": [
       "GridSearchCV(cv=10, error_score='raise-deprecating',\n",
       "             estimator=KNeighborsClassifier(algorithm='auto', leaf_size=30,\n",
       "                                            metric='minkowski',\n",
       "                                            metric_params=None, n_jobs=None,\n",
       "                                            n_neighbors=5, p=2,\n",
       "                                            weights='uniform'),\n",
       "             iid='warn', n_jobs=-1,\n",
       "             param_grid={'algorithm': ['auto'],\n",
       "                         'metric': ['minkowski', 'manhattan'],\n",
       "                         'n_neighbors': range(1, 32, 2), 'p': [1, 2],\n",
       "                         'weights': ['uniform', 'distance']},\n",
       "             pre_dispatch='2*n_jobs', refit=True, return_train_score=False,\n",
       "             scoring='accuracy', verbose=10)"
      ]
     },
     "execution_count": 6,
     "metadata": {},
     "output_type": "execute_result"
    }
   ],
   "source": [
    "# creating KNN instance\n",
    "knn = KNeighborsClassifier()\n",
    "knnCV = GridSearchCV(knn, grid_params_nn, cv=10, scoring='accuracy', verbose=10, n_jobs=-1)\n",
    "\n",
    "knnCV.fit(X_train, y_train.values.ravel())"
   ]
  },
  {
   "cell_type": "code",
   "execution_count": 7,
   "metadata": {},
   "outputs": [],
   "source": [
    "knn = knnCV.best_estimator_\n",
    "knn.fit(X_train, y_train.values.ravel())\n",
    "# predict test values\n",
    "y_pred_basic = knn.predict(X_test)"
   ]
  },
  {
   "cell_type": "code",
   "execution_count": 8,
   "metadata": {},
   "outputs": [
    {
     "name": "stdout",
     "output_type": "stream",
     "text": [
      "F1 score is = 0.0\n",
      "Accuracy is = 0.8400835557618661\n"
     ]
    }
   ],
   "source": [
    "# calculate F1 score\n",
    "f1_basic = f1_score(y_test, y_pred_basic)\n",
    "print(\"F1 score is = {0}\".format(f1_basic))\n",
    "print(\"Accuracy is = {0}\".format(accuracy_score(y_test, y_pred_basic)))"
   ]
  },
  {
   "cell_type": "markdown",
   "metadata": {},
   "source": [
    "## KNN with removed outliers"
   ]
  },
  {
   "cell_type": "code",
   "execution_count": 9,
   "metadata": {},
   "outputs": [],
   "source": [
    "# get data\n",
    "X, y = functions.get_data(type=\"__removeoutliers_new\")\n",
    "# split dataset into train and test data\n",
    "X_train, X_test, y_train, y_test_outliers = train_test_split(X, y, test_size=0.25, random_state=10, stratify=y)"
   ]
  },
  {
   "cell_type": "code",
   "execution_count": 10,
   "metadata": {},
   "outputs": [
    {
     "data": {
      "text/plain": [
       "KNeighborsClassifier(algorithm='auto', leaf_size=30, metric='minkowski',\n",
       "                     metric_params=None, n_jobs=None, n_neighbors=5, p=2,\n",
       "                     weights='uniform')"
      ]
     },
     "execution_count": 10,
     "metadata": {},
     "output_type": "execute_result"
    }
   ],
   "source": [
    "knn = KNeighborsClassifier()\n",
    "knn.fit(X_train, y_train.values.ravel())"
   ]
  },
  {
   "cell_type": "code",
   "execution_count": 11,
   "metadata": {},
   "outputs": [],
   "source": [
    "# predict test values\n",
    "y_pred_outliers = knn.predict(X_test)"
   ]
  },
  {
   "cell_type": "code",
   "execution_count": 12,
   "metadata": {},
   "outputs": [
    {
     "data": {
      "text/plain": [
       "'F1 score is = 0.09744779582366589'"
      ]
     },
     "execution_count": 12,
     "metadata": {},
     "output_type": "execute_result"
    }
   ],
   "source": [
    "# calculate F1 score\n",
    "# calculate F1 score\n",
    "f1_outliers = f1_score(y_test_outliers, y_pred_outliers)\n",
    "\"F1 score is = {0}\".format(f1_outliers)"
   ]
  },
  {
   "cell_type": "code",
   "execution_count": 13,
   "metadata": {},
   "outputs": [
    {
     "name": "stdout",
     "output_type": "stream",
     "text": [
      "Fitting 10 folds for each of 128 candidates, totalling 1280 fits\n"
     ]
    },
    {
     "name": "stderr",
     "output_type": "stream",
     "text": [
      "[Parallel(n_jobs=-1)]: Using backend LokyBackend with 8 concurrent workers.\n",
      "[Parallel(n_jobs=-1)]: Done   2 tasks      | elapsed:    4.5s\n",
      "[Parallel(n_jobs=-1)]: Done   9 tasks      | elapsed:    8.9s\n",
      "[Parallel(n_jobs=-1)]: Done  16 tasks      | elapsed:    9.1s\n",
      "[Parallel(n_jobs=-1)]: Done  25 tasks      | elapsed:   17.6s\n",
      "[Parallel(n_jobs=-1)]: Done  34 tasks      | elapsed:   21.9s\n",
      "[Parallel(n_jobs=-1)]: Done  45 tasks      | elapsed:   26.6s\n",
      "[Parallel(n_jobs=-1)]: Done  56 tasks      | elapsed:   31.2s\n",
      "[Parallel(n_jobs=-1)]: Done  69 tasks      | elapsed:   40.0s\n",
      "[Parallel(n_jobs=-1)]: Done  82 tasks      | elapsed:   48.6s\n",
      "[Parallel(n_jobs=-1)]: Done  97 tasks      | elapsed:   57.5s\n",
      "[Parallel(n_jobs=-1)]: Done 112 tasks      | elapsed:  1.0min\n",
      "[Parallel(n_jobs=-1)]: Done 129 tasks      | elapsed:  1.2min\n",
      "[Parallel(n_jobs=-1)]: Done 146 tasks      | elapsed:  1.4min\n",
      "[Parallel(n_jobs=-1)]: Done 165 tasks      | elapsed:  1.6min\n",
      "[Parallel(n_jobs=-1)]: Done 184 tasks      | elapsed:  1.7min\n",
      "[Parallel(n_jobs=-1)]: Done 205 tasks      | elapsed:  1.9min\n",
      "[Parallel(n_jobs=-1)]: Done 226 tasks      | elapsed:  2.1min\n",
      "[Parallel(n_jobs=-1)]: Done 249 tasks      | elapsed:  2.3min\n",
      "[Parallel(n_jobs=-1)]: Done 272 tasks      | elapsed:  2.5min\n",
      "[Parallel(n_jobs=-1)]: Done 297 tasks      | elapsed:  2.8min\n",
      "[Parallel(n_jobs=-1)]: Done 322 tasks      | elapsed:  3.0min\n",
      "[Parallel(n_jobs=-1)]: Done 349 tasks      | elapsed:  3.3min\n",
      "[Parallel(n_jobs=-1)]: Done 376 tasks      | elapsed:  3.5min\n",
      "[Parallel(n_jobs=-1)]: Done 405 tasks      | elapsed:  3.8min\n",
      "[Parallel(n_jobs=-1)]: Done 434 tasks      | elapsed:  4.1min\n",
      "[Parallel(n_jobs=-1)]: Done 465 tasks      | elapsed:  4.3min\n",
      "[Parallel(n_jobs=-1)]: Done 496 tasks      | elapsed:  4.6min\n",
      "[Parallel(n_jobs=-1)]: Done 529 tasks      | elapsed:  4.9min\n",
      "[Parallel(n_jobs=-1)]: Done 562 tasks      | elapsed:  5.2min\n",
      "[Parallel(n_jobs=-1)]: Done 597 tasks      | elapsed:  5.6min\n",
      "[Parallel(n_jobs=-1)]: Done 632 tasks      | elapsed:  5.9min\n",
      "[Parallel(n_jobs=-1)]: Done 669 tasks      | elapsed:  6.2min\n",
      "[Parallel(n_jobs=-1)]: Done 706 tasks      | elapsed:  6.6min\n",
      "[Parallel(n_jobs=-1)]: Done 745 tasks      | elapsed:  6.9min\n",
      "[Parallel(n_jobs=-1)]: Done 784 tasks      | elapsed:  7.3min\n",
      "[Parallel(n_jobs=-1)]: Done 825 tasks      | elapsed:  7.7min\n",
      "[Parallel(n_jobs=-1)]: Done 866 tasks      | elapsed:  8.0min\n",
      "[Parallel(n_jobs=-1)]: Done 909 tasks      | elapsed:  8.5min\n",
      "[Parallel(n_jobs=-1)]: Done 952 tasks      | elapsed:  8.9min\n",
      "[Parallel(n_jobs=-1)]: Done 997 tasks      | elapsed:  9.3min\n",
      "[Parallel(n_jobs=-1)]: Done 1042 tasks      | elapsed:  9.7min\n",
      "[Parallel(n_jobs=-1)]: Done 1089 tasks      | elapsed: 10.1min\n",
      "[Parallel(n_jobs=-1)]: Done 1136 tasks      | elapsed: 10.6min\n",
      "[Parallel(n_jobs=-1)]: Done 1185 tasks      | elapsed: 11.0min\n",
      "[Parallel(n_jobs=-1)]: Done 1234 tasks      | elapsed: 11.5min\n",
      "[Parallel(n_jobs=-1)]: Done 1280 out of 1280 | elapsed: 11.9min finished\n"
     ]
    },
    {
     "data": {
      "text/plain": [
       "GridSearchCV(cv=10, error_score='raise-deprecating',\n",
       "             estimator=KNeighborsClassifier(algorithm='auto', leaf_size=30,\n",
       "                                            metric='minkowski',\n",
       "                                            metric_params=None, n_jobs=None,\n",
       "                                            n_neighbors=5, p=2,\n",
       "                                            weights='uniform'),\n",
       "             iid='warn', n_jobs=-1,\n",
       "             param_grid={'algorithm': ['auto'],\n",
       "                         'metric': ['minkowski', 'manhattan'],\n",
       "                         'n_neighbors': range(1, 32, 2), 'p': [1, 2],\n",
       "                         'weights': ['uniform', 'distance']},\n",
       "             pre_dispatch='2*n_jobs', refit=True, return_train_score=False,\n",
       "             scoring='accuracy', verbose=10)"
      ]
     },
     "execution_count": 13,
     "metadata": {},
     "output_type": "execute_result"
    }
   ],
   "source": [
    "# creating KNN instance\n",
    "knn = KNeighborsClassifier()\n",
    "knnCV = GridSearchCV(knn, grid_params_nn, cv=10, scoring='accuracy', verbose=10, n_jobs=-1)\n",
    "\n",
    "knnCV.fit(X_train, y_train.values.ravel())"
   ]
  },
  {
   "cell_type": "code",
   "execution_count": 14,
   "metadata": {},
   "outputs": [
    {
     "name": "stdout",
     "output_type": "stream",
     "text": [
      "F1 score is = 0.00574712643678161\n",
      "Accuracy is = 0.8377871542428504\n"
     ]
    }
   ],
   "source": [
    "knn = knnCV.best_estimator_\n",
    "knn.fit(X_train, y_train.values.ravel())\n",
    "# predict test values\n",
    "y_pred_outliers = knn.predict(X_test)\n",
    "\n",
    "# calculate F1 score\n",
    "f1_outliers = f1_score(y_test_outliers, y_pred_outliers)\n",
    "print(\"F1 score is = {0}\".format(f1_outliers))\n",
    "print(\"Accuracy is = {0}\".format(accuracy_score(y_test_outliers, y_pred_outliers)))"
   ]
  },
  {
   "cell_type": "markdown",
   "metadata": {},
   "source": [
    "## KNN with PCA features"
   ]
  },
  {
   "cell_type": "code",
   "execution_count": 15,
   "metadata": {},
   "outputs": [],
   "source": [
    "# get data\n",
    "X, y = functions.get_data(type=\"__PCA_new\")\n",
    "# split dataset into train and test data\n",
    "X_train, X_test, y_train, y_test = train_test_split(X, y, test_size=0.25, random_state=10, stratify=y)"
   ]
  },
  {
   "cell_type": "code",
   "execution_count": 16,
   "metadata": {},
   "outputs": [
    {
     "data": {
      "text/plain": [
       "KNeighborsClassifier(algorithm='auto', leaf_size=30, metric='minkowski',\n",
       "                     metric_params=None, n_jobs=None, n_neighbors=5, p=2,\n",
       "                     weights='uniform')"
      ]
     },
     "execution_count": 16,
     "metadata": {},
     "output_type": "execute_result"
    }
   ],
   "source": [
    "knn = KNeighborsClassifier()\n",
    "knn.fit(X_train, y_train.values.ravel())"
   ]
  },
  {
   "cell_type": "code",
   "execution_count": 17,
   "metadata": {},
   "outputs": [],
   "source": [
    "# predict test values\n",
    "y_pred_PCA = knn.predict(X_test)"
   ]
  },
  {
   "cell_type": "code",
   "execution_count": 18,
   "metadata": {},
   "outputs": [
    {
     "data": {
      "text/plain": [
       "'F1 score is = 0.9859882005899705'"
      ]
     },
     "execution_count": 18,
     "metadata": {},
     "output_type": "execute_result"
    }
   ],
   "source": [
    "# calculate F1 score\n",
    "f1_PCA = f1_score(y_test, y_pred_PCA)\n",
    "\"F1 score is = {0}\".format(f1_PCA)"
   ]
  },
  {
   "cell_type": "code",
   "execution_count": 19,
   "metadata": {},
   "outputs": [
    {
     "name": "stdout",
     "output_type": "stream",
     "text": [
      "Fitting 10 folds for each of 128 candidates, totalling 1280 fits\n"
     ]
    },
    {
     "name": "stderr",
     "output_type": "stream",
     "text": [
      "[Parallel(n_jobs=-1)]: Using backend LokyBackend with 8 concurrent workers.\n",
      "[Parallel(n_jobs=-1)]: Done   2 tasks      | elapsed:    5.0s\n",
      "[Parallel(n_jobs=-1)]: Done   9 tasks      | elapsed:    9.9s\n",
      "[Parallel(n_jobs=-1)]: Done  16 tasks      | elapsed:   10.2s\n",
      "[Parallel(n_jobs=-1)]: Done  25 tasks      | elapsed:   17.2s\n",
      "[Parallel(n_jobs=-1)]: Done  34 tasks      | elapsed:   20.9s\n",
      "[Parallel(n_jobs=-1)]: Done  45 tasks      | elapsed:   28.0s\n",
      "[Parallel(n_jobs=-1)]: Done  56 tasks      | elapsed:   34.4s\n",
      "[Parallel(n_jobs=-1)]: Done  69 tasks      | elapsed:   43.5s\n",
      "[Parallel(n_jobs=-1)]: Done  82 tasks      | elapsed:   53.4s\n",
      "[Parallel(n_jobs=-1)]: Done  97 tasks      | elapsed:  1.1min\n",
      "[Parallel(n_jobs=-1)]: Done 112 tasks      | elapsed:  1.2min\n",
      "[Parallel(n_jobs=-1)]: Done 129 tasks      | elapsed:  1.5min\n",
      "[Parallel(n_jobs=-1)]: Done 146 tasks      | elapsed:  1.7min\n",
      "[Parallel(n_jobs=-1)]: Done 165 tasks      | elapsed:  1.9min\n",
      "[Parallel(n_jobs=-1)]: Done 184 tasks      | elapsed:  2.1min\n",
      "[Parallel(n_jobs=-1)]: Done 205 tasks      | elapsed:  2.4min\n",
      "[Parallel(n_jobs=-1)]: Done 226 tasks      | elapsed:  2.7min\n",
      "[Parallel(n_jobs=-1)]: Done 249 tasks      | elapsed:  3.0min\n",
      "[Parallel(n_jobs=-1)]: Done 272 tasks      | elapsed:  3.2min\n",
      "[Parallel(n_jobs=-1)]: Done 297 tasks      | elapsed:  3.6min\n",
      "[Parallel(n_jobs=-1)]: Done 322 tasks      | elapsed:  3.8min\n",
      "[Parallel(n_jobs=-1)]: Done 349 tasks      | elapsed:  4.2min\n",
      "[Parallel(n_jobs=-1)]: Done 376 tasks      | elapsed:  4.5min\n",
      "[Parallel(n_jobs=-1)]: Done 405 tasks      | elapsed:  4.9min\n",
      "[Parallel(n_jobs=-1)]: Done 434 tasks      | elapsed:  5.3min\n",
      "[Parallel(n_jobs=-1)]: Done 465 tasks      | elapsed:  5.8min\n",
      "[Parallel(n_jobs=-1)]: Done 496 tasks      | elapsed:  6.1min\n",
      "[Parallel(n_jobs=-1)]: Done 529 tasks      | elapsed:  6.6min\n",
      "[Parallel(n_jobs=-1)]: Done 562 tasks      | elapsed:  7.0min\n",
      "[Parallel(n_jobs=-1)]: Done 597 tasks      | elapsed:  7.5min\n",
      "[Parallel(n_jobs=-1)]: Done 632 tasks      | elapsed:  8.0min\n",
      "[Parallel(n_jobs=-1)]: Done 669 tasks      | elapsed:  8.4min\n",
      "[Parallel(n_jobs=-1)]: Done 706 tasks      | elapsed:  8.9min\n",
      "[Parallel(n_jobs=-1)]: Done 745 tasks      | elapsed:  9.4min\n",
      "[Parallel(n_jobs=-1)]: Done 784 tasks      | elapsed:  9.8min\n",
      "[Parallel(n_jobs=-1)]: Done 825 tasks      | elapsed: 10.5min\n",
      "[Parallel(n_jobs=-1)]: Done 866 tasks      | elapsed: 11.1min\n",
      "[Parallel(n_jobs=-1)]: Done 909 tasks      | elapsed: 11.7min\n",
      "[Parallel(n_jobs=-1)]: Done 952 tasks      | elapsed: 12.3min\n",
      "[Parallel(n_jobs=-1)]: Done 997 tasks      | elapsed: 13.0min\n",
      "[Parallel(n_jobs=-1)]: Done 1042 tasks      | elapsed: 13.8min\n",
      "[Parallel(n_jobs=-1)]: Done 1089 tasks      | elapsed: 14.5min\n",
      "[Parallel(n_jobs=-1)]: Done 1136 tasks      | elapsed: 15.2min\n",
      "[Parallel(n_jobs=-1)]: Done 1185 tasks      | elapsed: 16.0min\n",
      "[Parallel(n_jobs=-1)]: Done 1234 tasks      | elapsed: 16.8min\n",
      "[Parallel(n_jobs=-1)]: Done 1280 out of 1280 | elapsed: 17.5min finished\n"
     ]
    },
    {
     "data": {
      "text/plain": [
       "GridSearchCV(cv=10, error_score='raise-deprecating',\n",
       "             estimator=KNeighborsClassifier(algorithm='auto', leaf_size=30,\n",
       "                                            metric='minkowski',\n",
       "                                            metric_params=None, n_jobs=None,\n",
       "                                            n_neighbors=5, p=2,\n",
       "                                            weights='uniform'),\n",
       "             iid='warn', n_jobs=-1,\n",
       "             param_grid={'algorithm': ['auto'],\n",
       "                         'metric': ['minkowski', 'manhattan'],\n",
       "                         'n_neighbors': range(1, 32, 2), 'p': [1, 2],\n",
       "                         'weights': ['uniform', 'distance']},\n",
       "             pre_dispatch='2*n_jobs', refit=True, return_train_score=False,\n",
       "             scoring='accuracy', verbose=10)"
      ]
     },
     "execution_count": 19,
     "metadata": {},
     "output_type": "execute_result"
    }
   ],
   "source": [
    "# creating KNN instance\n",
    "knn = KNeighborsClassifier()\n",
    "knnCV = GridSearchCV(knn, grid_params_nn, cv=10, scoring='accuracy', verbose=10, n_jobs=-1)\n",
    "\n",
    "knnCV.fit(X_train, y_train.values.ravel())"
   ]
  },
  {
   "cell_type": "code",
   "execution_count": 20,
   "metadata": {
    "scrolled": true
   },
   "outputs": [
    {
     "name": "stdout",
     "output_type": "stream",
     "text": [
      "F1 score is = 0.9882783882783883\n",
      "Accuracy is = 0.9962864105837298\n"
     ]
    }
   ],
   "source": [
    "knn = knnCV.best_estimator_\n",
    "knn.fit(X_train, y_train.values.ravel())\n",
    "# predict test values\n",
    "y_pred_PCA = knn.predict(X_test)\n",
    "\n",
    "# calculate F1 score\n",
    "f1_PCA = f1_score(y_test, y_pred_PCA)\n",
    "print(\"F1 score is = {0}\".format(f1_PCA))\n",
    "print(\"Accuracy is = {0}\".format(accuracy_score(y_test, y_pred_PCA)))"
   ]
  },
  {
   "cell_type": "markdown",
   "metadata": {},
   "source": [
    "## KNN with feature tools features"
   ]
  },
  {
   "cell_type": "code",
   "execution_count": 21,
   "metadata": {},
   "outputs": [],
   "source": [
    "# get data\n",
    "X, y = functions.get_data(type=\"__FTs_new\")\n",
    "# split dataset into train and test data\n",
    "X_train, X_test, y_train, y_test = train_test_split(X, y, test_size=0.25, random_state=10, stratify=y)"
   ]
  },
  {
   "cell_type": "code",
   "execution_count": 22,
   "metadata": {},
   "outputs": [
    {
     "data": {
      "text/plain": [
       "KNeighborsClassifier(algorithm='auto', leaf_size=30, metric='minkowski',\n",
       "                     metric_params=None, n_jobs=None, n_neighbors=5, p=2,\n",
       "                     weights='uniform')"
      ]
     },
     "execution_count": 22,
     "metadata": {},
     "output_type": "execute_result"
    }
   ],
   "source": [
    "knn = KNeighborsClassifier()\n",
    "knn.fit(X_train, y_train.values.ravel())"
   ]
  },
  {
   "cell_type": "code",
   "execution_count": 23,
   "metadata": {},
   "outputs": [],
   "source": [
    "# predict test values\n",
    "y_pred_FT = knn.predict(X_test)"
   ]
  },
  {
   "cell_type": "code",
   "execution_count": 24,
   "metadata": {},
   "outputs": [
    {
     "data": {
      "text/plain": [
       "'F1 score is = 0.13544018058690743'"
      ]
     },
     "execution_count": 24,
     "metadata": {},
     "output_type": "execute_result"
    }
   ],
   "source": [
    "# calculate F1 score\n",
    "f1_FT = f1_score(y_test, y_pred_FT)\n",
    "\"F1 score is = {0}\".format(f1_FT)"
   ]
  },
  {
   "cell_type": "code",
   "execution_count": 25,
   "metadata": {},
   "outputs": [
    {
     "name": "stdout",
     "output_type": "stream",
     "text": [
      "Fitting 10 folds for each of 128 candidates, totalling 1280 fits\n"
     ]
    },
    {
     "name": "stderr",
     "output_type": "stream",
     "text": [
      "[Parallel(n_jobs=-1)]: Using backend LokyBackend with 8 concurrent workers.\n",
      "[Parallel(n_jobs=-1)]: Batch computation too fast (0.1899s.) Setting batch_size=2.\n",
      "[Parallel(n_jobs=-1)]: Done   2 tasks      | elapsed:    0.2s\n",
      "[Parallel(n_jobs=-1)]: Done   9 tasks      | elapsed:    0.3s\n",
      "[Parallel(n_jobs=-1)]: Done  16 tasks      | elapsed:    0.4s\n",
      "[Parallel(n_jobs=-1)]: Done  34 tasks      | elapsed:    0.8s\n",
      "[Parallel(n_jobs=-1)]: Done  52 tasks      | elapsed:    1.2s\n",
      "[Parallel(n_jobs=-1)]: Done  74 tasks      | elapsed:    1.6s\n",
      "[Parallel(n_jobs=-1)]: Done  96 tasks      | elapsed:    2.1s\n",
      "[Parallel(n_jobs=-1)]: Done 122 tasks      | elapsed:    2.8s\n",
      "[Parallel(n_jobs=-1)]: Done 148 tasks      | elapsed:    3.4s\n",
      "[Parallel(n_jobs=-1)]: Done 178 tasks      | elapsed:    4.0s\n",
      "[Parallel(n_jobs=-1)]: Done 208 tasks      | elapsed:    4.9s\n",
      "[Parallel(n_jobs=-1)]: Done 242 tasks      | elapsed:    5.8s\n",
      "[Parallel(n_jobs=-1)]: Done 276 tasks      | elapsed:    6.5s\n",
      "[Parallel(n_jobs=-1)]: Done 314 tasks      | elapsed:    7.5s\n",
      "[Parallel(n_jobs=-1)]: Done 352 tasks      | elapsed:    8.6s\n",
      "[Parallel(n_jobs=-1)]: Done 394 tasks      | elapsed:    9.8s\n",
      "[Parallel(n_jobs=-1)]: Done 436 tasks      | elapsed:   11.0s\n",
      "[Parallel(n_jobs=-1)]: Done 482 tasks      | elapsed:   12.6s\n",
      "[Parallel(n_jobs=-1)]: Done 528 tasks      | elapsed:   13.9s\n",
      "[Parallel(n_jobs=-1)]: Done 578 tasks      | elapsed:   15.5s\n",
      "[Parallel(n_jobs=-1)]: Done 628 tasks      | elapsed:   17.0s\n",
      "[Parallel(n_jobs=-1)]: Done 682 tasks      | elapsed:   18.3s\n",
      "[Parallel(n_jobs=-1)]: Done 736 tasks      | elapsed:   19.2s\n",
      "[Parallel(n_jobs=-1)]: Done 794 tasks      | elapsed:   20.6s\n",
      "[Parallel(n_jobs=-1)]: Done 852 tasks      | elapsed:   22.1s\n",
      "[Parallel(n_jobs=-1)]: Done 914 tasks      | elapsed:   23.7s\n",
      "[Parallel(n_jobs=-1)]: Done 976 tasks      | elapsed:   25.4s\n",
      "[Parallel(n_jobs=-1)]: Done 1042 tasks      | elapsed:   27.4s\n",
      "[Parallel(n_jobs=-1)]: Done 1108 tasks      | elapsed:   29.3s\n",
      "[Parallel(n_jobs=-1)]: Done 1178 tasks      | elapsed:   31.5s\n",
      "[Parallel(n_jobs=-1)]: Done 1248 tasks      | elapsed:   33.7s\n",
      "[Parallel(n_jobs=-1)]: Done 1280 out of 1280 | elapsed:   34.6s finished\n"
     ]
    },
    {
     "data": {
      "text/plain": [
       "GridSearchCV(cv=10, error_score='raise-deprecating',\n",
       "             estimator=KNeighborsClassifier(algorithm='auto', leaf_size=30,\n",
       "                                            metric='minkowski',\n",
       "                                            metric_params=None, n_jobs=None,\n",
       "                                            n_neighbors=5, p=2,\n",
       "                                            weights='uniform'),\n",
       "             iid='warn', n_jobs=-1,\n",
       "             param_grid={'algorithm': ['auto'],\n",
       "                         'metric': ['minkowski', 'manhattan'],\n",
       "                         'n_neighbors': range(1, 32, 2), 'p': [1, 2],\n",
       "                         'weights': ['uniform', 'distance']},\n",
       "             pre_dispatch='2*n_jobs', refit=True, return_train_score=False,\n",
       "             scoring='accuracy', verbose=10)"
      ]
     },
     "execution_count": 25,
     "metadata": {},
     "output_type": "execute_result"
    }
   ],
   "source": [
    "# creating KNN instance\n",
    "knn = KNeighborsClassifier()\n",
    "knnCV = GridSearchCV(knn, grid_params_nn, cv=10, scoring='accuracy', verbose=10, n_jobs=-1)\n",
    "\n",
    "knnCV.fit(X_train, y_train.values.ravel())"
   ]
  },
  {
   "cell_type": "code",
   "execution_count": 26,
   "metadata": {},
   "outputs": [
    {
     "name": "stdout",
     "output_type": "stream",
     "text": [
      "F1 score is = 0.010057471264367816\n",
      "Accuracy is = 0.8400835557618661\n"
     ]
    }
   ],
   "source": [
    "knn = knnCV.best_estimator_\n",
    "knn.fit(X_train, y_train.values.ravel())\n",
    "# predict test values\n",
    "y_pred_FT = knn.predict(X_test)\n",
    "\n",
    "# calculate F1 score\n",
    "f1_FT = f1_score(y_test, y_pred_FT)\n",
    "print(\"F1 score is = {0}\".format(f1_FT))\n",
    "print(\"Accuracy is = {0}\".format(accuracy_score(y_test, y_pred_FT)))"
   ]
  },
  {
   "cell_type": "markdown",
   "metadata": {},
   "source": [
    "## KNN with polynominal features"
   ]
  },
  {
   "cell_type": "code",
   "execution_count": 27,
   "metadata": {},
   "outputs": [],
   "source": [
    "# get data\n",
    "X, y = functions.get_data(type=\"__polynomial_new\")\n",
    "# split dataset into train and test data\n",
    "X_train, X_test, y_train, y_test = train_test_split(X, y, test_size=0.25, random_state=10, stratify=y)"
   ]
  },
  {
   "cell_type": "code",
   "execution_count": 28,
   "metadata": {},
   "outputs": [
    {
     "data": {
      "text/plain": [
       "KNeighborsClassifier(algorithm='auto', leaf_size=30, metric='minkowski',\n",
       "                     metric_params=None, n_jobs=None, n_neighbors=5, p=2,\n",
       "                     weights='uniform')"
      ]
     },
     "execution_count": 28,
     "metadata": {},
     "output_type": "execute_result"
    }
   ],
   "source": [
    "knn = KNeighborsClassifier()\n",
    "knn.fit(X_train, y_train.values.ravel())"
   ]
  },
  {
   "cell_type": "code",
   "execution_count": 29,
   "metadata": {},
   "outputs": [],
   "source": [
    "# predict test values\n",
    "y_pred_poly = knn.predict(X_test)"
   ]
  },
  {
   "cell_type": "code",
   "execution_count": 30,
   "metadata": {},
   "outputs": [
    {
     "data": {
      "text/plain": [
       "'F1 score is = 0.14102564102564102'"
      ]
     },
     "execution_count": 30,
     "metadata": {},
     "output_type": "execute_result"
    }
   ],
   "source": [
    "# calculate F1 score\n",
    "f1_poly = f1_score(y_test, y_pred_poly)\n",
    "\"F1 score is = {0}\".format(f1_poly)"
   ]
  },
  {
   "cell_type": "code",
   "execution_count": 31,
   "metadata": {},
   "outputs": [
    {
     "name": "stdout",
     "output_type": "stream",
     "text": [
      "Fitting 10 folds for each of 128 candidates, totalling 1280 fits\n"
     ]
    },
    {
     "name": "stderr",
     "output_type": "stream",
     "text": [
      "[Parallel(n_jobs=-1)]: Using backend LokyBackend with 8 concurrent workers.\n",
      "[Parallel(n_jobs=-1)]: Done   2 tasks      | elapsed:    0.3s\n",
      "[Parallel(n_jobs=-1)]: Done   9 tasks      | elapsed:    0.5s\n",
      "[Parallel(n_jobs=-1)]: Done  16 tasks      | elapsed:    0.6s\n",
      "[Parallel(n_jobs=-1)]: Done  25 tasks      | elapsed:    0.9s\n",
      "[Parallel(n_jobs=-1)]: Done  34 tasks      | elapsed:    1.1s\n",
      "[Parallel(n_jobs=-1)]: Done  45 tasks      | elapsed:    1.4s\n",
      "[Parallel(n_jobs=-1)]: Done  56 tasks      | elapsed:    1.8s\n",
      "[Parallel(n_jobs=-1)]: Done  69 tasks      | elapsed:    2.3s\n",
      "[Parallel(n_jobs=-1)]: Done  82 tasks      | elapsed:    2.8s\n",
      "[Parallel(n_jobs=-1)]: Done  97 tasks      | elapsed:    3.4s\n",
      "[Parallel(n_jobs=-1)]: Done 112 tasks      | elapsed:    3.8s\n",
      "[Parallel(n_jobs=-1)]: Done 129 tasks      | elapsed:    4.7s\n",
      "[Parallel(n_jobs=-1)]: Done 146 tasks      | elapsed:    5.4s\n",
      "[Parallel(n_jobs=-1)]: Done 165 tasks      | elapsed:    6.1s\n",
      "[Parallel(n_jobs=-1)]: Done 184 tasks      | elapsed:    6.9s\n",
      "[Parallel(n_jobs=-1)]: Done 205 tasks      | elapsed:    7.8s\n",
      "[Parallel(n_jobs=-1)]: Done 226 tasks      | elapsed:    8.9s\n",
      "[Parallel(n_jobs=-1)]: Done 249 tasks      | elapsed:   10.0s\n",
      "[Parallel(n_jobs=-1)]: Done 272 tasks      | elapsed:   10.8s\n",
      "[Parallel(n_jobs=-1)]: Done 297 tasks      | elapsed:   12.3s\n",
      "[Parallel(n_jobs=-1)]: Done 322 tasks      | elapsed:   13.4s\n",
      "[Parallel(n_jobs=-1)]: Done 349 tasks      | elapsed:   14.7s\n",
      "[Parallel(n_jobs=-1)]: Done 376 tasks      | elapsed:   15.9s\n",
      "[Parallel(n_jobs=-1)]: Done 405 tasks      | elapsed:   17.5s\n",
      "[Parallel(n_jobs=-1)]: Done 434 tasks      | elapsed:   19.0s\n",
      "[Parallel(n_jobs=-1)]: Done 465 tasks      | elapsed:   20.7s\n",
      "[Parallel(n_jobs=-1)]: Done 496 tasks      | elapsed:   22.1s\n",
      "[Parallel(n_jobs=-1)]: Done 529 tasks      | elapsed:   24.2s\n",
      "[Parallel(n_jobs=-1)]: Done 562 tasks      | elapsed:   26.0s\n",
      "[Parallel(n_jobs=-1)]: Done 597 tasks      | elapsed:   27.8s\n",
      "[Parallel(n_jobs=-1)]: Done 632 tasks      | elapsed:   29.8s\n",
      "[Parallel(n_jobs=-1)]: Done 669 tasks      | elapsed:   31.1s\n",
      "[Parallel(n_jobs=-1)]: Done 706 tasks      | elapsed:   32.4s\n",
      "[Parallel(n_jobs=-1)]: Done 745 tasks      | elapsed:   34.0s\n",
      "[Parallel(n_jobs=-1)]: Done 784 tasks      | elapsed:   35.5s\n",
      "[Parallel(n_jobs=-1)]: Done 825 tasks      | elapsed:   37.5s\n",
      "[Parallel(n_jobs=-1)]: Done 866 tasks      | elapsed:   39.4s\n",
      "[Parallel(n_jobs=-1)]: Done 909 tasks      | elapsed:   41.6s\n",
      "[Parallel(n_jobs=-1)]: Done 952 tasks      | elapsed:   43.7s\n",
      "[Parallel(n_jobs=-1)]: Done 997 tasks      | elapsed:   46.2s\n",
      "[Parallel(n_jobs=-1)]: Done 1042 tasks      | elapsed:   48.7s\n",
      "[Parallel(n_jobs=-1)]: Done 1089 tasks      | elapsed:   51.4s\n",
      "[Parallel(n_jobs=-1)]: Done 1136 tasks      | elapsed:   53.9s\n",
      "[Parallel(n_jobs=-1)]: Done 1185 tasks      | elapsed:   57.0s\n",
      "[Parallel(n_jobs=-1)]: Done 1234 tasks      | elapsed:   60.0s\n",
      "[Parallel(n_jobs=-1)]: Done 1280 out of 1280 | elapsed:  1.0min finished\n"
     ]
    },
    {
     "data": {
      "text/plain": [
       "GridSearchCV(cv=10, error_score='raise-deprecating',\n",
       "             estimator=KNeighborsClassifier(algorithm='auto', leaf_size=30,\n",
       "                                            metric='minkowski',\n",
       "                                            metric_params=None, n_jobs=None,\n",
       "                                            n_neighbors=5, p=2,\n",
       "                                            weights='uniform'),\n",
       "             iid='warn', n_jobs=-1,\n",
       "             param_grid={'algorithm': ['auto'],\n",
       "                         'metric': ['minkowski', 'manhattan'],\n",
       "                         'n_neighbors': range(1, 32, 2), 'p': [1, 2],\n",
       "                         'weights': ['uniform', 'distance']},\n",
       "             pre_dispatch='2*n_jobs', refit=True, return_train_score=False,\n",
       "             scoring='accuracy', verbose=10)"
      ]
     },
     "execution_count": 31,
     "metadata": {},
     "output_type": "execute_result"
    }
   ],
   "source": [
    "# creating KNN instance\n",
    "knn = KNeighborsClassifier()\n",
    "knnCV = GridSearchCV(knn, grid_params_nn, cv=10, scoring='accuracy', verbose=10, n_jobs=-1)\n",
    "\n",
    "knnCV.fit(X_train, y_train.values.ravel())"
   ]
  },
  {
   "cell_type": "code",
   "execution_count": 32,
   "metadata": {},
   "outputs": [
    {
     "name": "stdout",
     "output_type": "stream",
     "text": [
      "F1 score is = 0.030790762771168653\n",
      "Accuracy is = 0.839271208077057\n"
     ]
    }
   ],
   "source": [
    "knn = knnCV.best_estimator_\n",
    "knn.fit(X_train, y_train.values.ravel())\n",
    "# predict test values\n",
    "y_pred_poly = knn.predict(X_test)\n",
    "\n",
    "# calculate F1 score\n",
    "f1_poly = f1_score(y_test, y_pred_poly)\n",
    "print(\"F1 score is = {0}\".format(f1_poly))\n",
    "print(\"Accuracy is = {0}\".format(accuracy_score(y_test, y_pred_poly)))"
   ]
  }
 ],
 "metadata": {
  "kernelspec": {
   "display_name": "Python 3",
   "language": "python",
   "name": "python3"
  },
  "language_info": {
   "codemirror_mode": {
    "name": "ipython",
    "version": 3
   },
   "file_extension": ".py",
   "mimetype": "text/x-python",
   "name": "python",
   "nbconvert_exporter": "python",
   "pygments_lexer": "ipython3",
   "version": "3.5.3"
  }
 },
 "nbformat": 4,
 "nbformat_minor": 2
}
