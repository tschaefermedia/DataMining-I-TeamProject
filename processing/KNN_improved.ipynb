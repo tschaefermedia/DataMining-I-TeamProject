{
 "cells": [
  {
   "cell_type": "markdown",
   "metadata": {},
   "source": [
    "# KNN with serveral features\n",
    "## merge datasets"
   ]
  },
  {
   "cell_type": "code",
   "execution_count": 82,
   "metadata": {},
   "outputs": [],
   "source": [
    "# imports\n",
    "from sklearn.neighbors import KNeighborsClassifier\n",
    "import importlib.util\n",
    "spec = importlib.util.spec_from_file_location(\"module.name\", \"../functions.py\")\n",
    "functions = importlib.util.module_from_spec(spec)\n",
    "spec.loader.exec_module(functions)\n",
    "from sklearn.model_selection import train_test_split\n",
    "from sklearn.metrics import f1_score\n",
    "import pandas as pd\n",
    "import matplotlib.pyplot as plt\n",
    "import itertools\n",
    "from sklearn.metrics import confusion_matrix\n",
    "import numpy as np\n",
    "from sklearn.model_selection import GridSearchCV\n",
    "from sklearn.preprocessing import StandardScaler\n",
    "from sklearn.feature_selection import SelectKBest, f_classif"
   ]
  },
  {
   "cell_type": "code",
   "execution_count": 85,
   "metadata": {},
   "outputs": [],
   "source": [
    "def plot_confusion_matrix(cm, classes,\n",
    "                          normalize=False,\n",
    "                          title='Confusion matrix',\n",
    "                          cmap=plt.cm.Blues):\n",
    "    \"\"\"\n",
    "    This function prints and plots the confusion matrix.\n",
    "    Normalization can be applied by setting `normalize=True`.\n",
    "    \"\"\"\n",
    "    if normalize:\n",
    "        cm = cm.astype('float') / cm.sum(axis=1)[:, np.newaxis]\n",
    "        print(\"Normalized confusion matrix\")\n",
    "    else:\n",
    "        print('Confusion matrix, without normalization')\n",
    "    plt.imshow(cm, interpolation='nearest', cmap=cmap)\n",
    "    plt.title(title)\n",
    "    plt.colorbar()\n",
    "    tick_marks = np.arange(len(classes))\n",
    "    plt.xticks(tick_marks, classes, rotation=45)\n",
    "    plt.yticks(tick_marks, classes)\n",
    "\n",
    "    fmt = '.2f' if normalize else 'd'\n",
    "    thresh = cm.max() / 2.\n",
    "    for i, j in itertools.product(range(cm.shape[0]), range(cm.shape[1])):\n",
    "        plt.text(j, i, format(cm[i, j], fmt),\n",
    "                 horizontalalignment=\"center\",\n",
    "                 color=\"white\" if cm[i, j] > thresh else \"black\")\n",
    "\n",
    "    plt.ylabel('True label')\n",
    "    plt.xlabel('Predicted label')\n",
    "    plt.tight_layout()"
   ]
  },
  {
   "cell_type": "code",
   "execution_count": 87,
   "metadata": {},
   "outputs": [],
   "source": [
    "# define dataset as merge of all available datasets PCA, FT, Polynominal & default \n",
    "np.set_printoptions(precision=1)\n",
    "df_default = pd.read_csv(\"../data/credit_train_processed.csv\", index_col=0)\n",
    "df_FT = pd.read_csv(\"../data/credit_train_processed__FTs.csv\", index_col=0)\n",
    "df_poly = pd.read_csv(\"../data/credit_train_processed__polynomial.csv\", index_col=0)\n",
    "\n",
    "target = df_default[\"Loan Status\"]\n",
    "\n",
    "df_default = df_default.drop(df_default[[\"Loan Status\", \"Credit Score\"]], axis=1)\n",
    "df_poly = df_poly.drop(df_poly[[\"Loan Status\", \"Credit Score\"]], axis=1)\n",
    "df_FT = df_FT.drop(df_FT[[\"Loan Status\"]], axis=1)\n"
   ]
  },
  {
   "cell_type": "code",
   "execution_count": 88,
   "metadata": {},
   "outputs": [
    {
     "name": "stdout",
     "output_type": "stream",
     "text": [
      "[9.0e-02 5.7e-02 5.4e-02 5.4e-02 5.0e-02 4.6e-02 3.4e-02 3.2e-02 3.0e-02\n",
      " 3.0e-02 3.0e-02 2.9e-02 2.9e-02 2.9e-02 2.9e-02 2.9e-02 2.9e-02 2.9e-02\n",
      " 2.9e-02 2.9e-02 2.8e-02 2.8e-02 2.8e-02 2.7e-02 2.6e-02 2.5e-02 2.3e-02\n",
      " 1.9e-02 1.3e-02 1.1e-02 3.3e-03 2.7e-03 1.8e-32 2.1e-33]\n"
     ]
    }
   ],
   "source": [
    "# Dimensionality Reduction using PCA\n",
    "from sklearn.decomposition import PCA\n",
    "\n",
    "# Standardizing the features\n",
    "df_PCA = StandardScaler().fit_transform(df_default)\n",
    "pca = PCA(n_components = len(df_default.columns)-1)\n",
    "    \n",
    "X_pca = pca.fit_transform(df_PCA)\n",
    "    \n",
    "ex_variance=np.var(X_pca,axis=0)\n",
    "ex_variance_ratio = ex_variance/np.sum(ex_variance)\n",
    "print(ex_variance_ratio)\n",
    "sum = 0\n",
    "counter = 0\n",
    "for var in ex_variance_ratio:\n",
    "    counter += 1\n",
    "    sum += var\n",
    "    if sum > 0.90:\n",
    "        break\n",
    "pca = PCA(n_components = counter)\n",
    "    \n",
    "df_PCA = pd.DataFrame(pca.fit_transform(df_default))"
   ]
  },
  {
   "cell_type": "code",
   "execution_count": 90,
   "metadata": {},
   "outputs": [
    {
     "data": {
      "text/html": [
       "<div>\n",
       "<style scoped>\n",
       "    .dataframe tbody tr th:only-of-type {\n",
       "        vertical-align: middle;\n",
       "    }\n",
       "\n",
       "    .dataframe tbody tr th {\n",
       "        vertical-align: top;\n",
       "    }\n",
       "\n",
       "    .dataframe thead th {\n",
       "        text-align: right;\n",
       "    }\n",
       "</style>\n",
       "<table border=\"1\" class=\"dataframe\">\n",
       "  <thead>\n",
       "    <tr style=\"text-align: right;\">\n",
       "      <th></th>\n",
       "      <th>0</th>\n",
       "      <th>2</th>\n",
       "      <th>13</th>\n",
       "      <th>Current Loan Amount + Term</th>\n",
       "      <th>1 / Current Loan Amount</th>\n",
       "      <th>Credit Score + Current Loan Amount</th>\n",
       "      <th>Current Loan Amount_x</th>\n",
       "      <th>Credit Ration per Year_x</th>\n",
       "      <th>Current Loan Amount^2</th>\n",
       "      <th>Current Loan Amount_y</th>\n",
       "      <th>Term</th>\n",
       "      <th>Credit Ration per Year_y</th>\n",
       "      <th>Loan Status</th>\n",
       "    </tr>\n",
       "  </thead>\n",
       "  <tbody>\n",
       "    <tr>\n",
       "      <th>0</th>\n",
       "      <td>8.622449e+07</td>\n",
       "      <td>7.306387e+05</td>\n",
       "      <td>-0.243580</td>\n",
       "      <td>3.170315</td>\n",
       "      <td>0.395103</td>\n",
       "      <td>3.500711</td>\n",
       "      <td>2.530987</td>\n",
       "      <td>0.981006</td>\n",
       "      <td>6.405894</td>\n",
       "      <td>99999999.0</td>\n",
       "      <td>1.0</td>\n",
       "      <td>44.805035</td>\n",
       "      <td>0.0</td>\n",
       "    </tr>\n",
       "    <tr>\n",
       "      <th>1</th>\n",
       "      <td>-1.355825e+07</td>\n",
       "      <td>-2.868349e+05</td>\n",
       "      <td>-0.447374</td>\n",
       "      <td>0.241348</td>\n",
       "      <td>-2.512688</td>\n",
       "      <td>0.185342</td>\n",
       "      <td>-0.397980</td>\n",
       "      <td>-0.347665</td>\n",
       "      <td>0.158388</td>\n",
       "      <td>217646.0</td>\n",
       "      <td>1.0</td>\n",
       "      <td>0.183793</td>\n",
       "      <td>0.0</td>\n",
       "    </tr>\n",
       "    <tr>\n",
       "      <th>2</th>\n",
       "      <td>-1.322659e+07</td>\n",
       "      <td>1.118057e+06</td>\n",
       "      <td>-0.342832</td>\n",
       "      <td>0.251067</td>\n",
       "      <td>-2.575586</td>\n",
       "      <td>-1.631566</td>\n",
       "      <td>-0.388261</td>\n",
       "      <td>-0.346753</td>\n",
       "      <td>0.150747</td>\n",
       "      <td>548746.0</td>\n",
       "      <td>1.0</td>\n",
       "      <td>0.214428</td>\n",
       "      <td>0.0</td>\n",
       "    </tr>\n",
       "    <tr>\n",
       "      <th>3</th>\n",
       "      <td>8.622391e+07</td>\n",
       "      <td>-7.853911e+05</td>\n",
       "      <td>-0.157547</td>\n",
       "      <td>3.170315</td>\n",
       "      <td>0.395103</td>\n",
       "      <td>3.044054</td>\n",
       "      <td>2.530987</td>\n",
       "      <td>3.813597</td>\n",
       "      <td>6.405894</td>\n",
       "      <td>99999999.0</td>\n",
       "      <td>1.0</td>\n",
       "      <td>139.932943</td>\n",
       "      <td>0.0</td>\n",
       "    </tr>\n",
       "    <tr>\n",
       "      <th>4</th>\n",
       "      <td>8.622393e+07</td>\n",
       "      <td>-7.323161e+05</td>\n",
       "      <td>-0.243550</td>\n",
       "      <td>3.170315</td>\n",
       "      <td>0.395103</td>\n",
       "      <td>3.465583</td>\n",
       "      <td>2.530987</td>\n",
       "      <td>3.483131</td>\n",
       "      <td>6.405894</td>\n",
       "      <td>99999999.0</td>\n",
       "      <td>1.0</td>\n",
       "      <td>128.834766</td>\n",
       "      <td>0.0</td>\n",
       "    </tr>\n",
       "    <tr>\n",
       "      <th>5</th>\n",
       "      <td>-1.354197e+07</td>\n",
       "      <td>-7.859454e+05</td>\n",
       "      <td>-0.247020</td>\n",
       "      <td>0.241832</td>\n",
       "      <td>-2.515745</td>\n",
       "      <td>0.080443</td>\n",
       "      <td>-0.397497</td>\n",
       "      <td>-0.343082</td>\n",
       "      <td>0.158003</td>\n",
       "      <td>234124.0</td>\n",
       "      <td>1.0</td>\n",
       "      <td>0.337727</td>\n",
       "      <td>0.0</td>\n",
       "    </tr>\n",
       "    <tr>\n",
       "      <th>6</th>\n",
       "      <td>-1.310952e+07</td>\n",
       "      <td>4.177273e+05</td>\n",
       "      <td>0.415508</td>\n",
       "      <td>-1.948954</td>\n",
       "      <td>-2.598662</td>\n",
       "      <td>-0.047383</td>\n",
       "      <td>-0.384813</td>\n",
       "      <td>-0.342250</td>\n",
       "      <td>0.148081</td>\n",
       "      <td>666204.0</td>\n",
       "      <td>0.0</td>\n",
       "      <td>0.365651</td>\n",
       "      <td>0.0</td>\n",
       "    </tr>\n",
       "    <tr>\n",
       "      <th>7</th>\n",
       "      <td>-1.345880e+07</td>\n",
       "      <td>-3.438790e+05</td>\n",
       "      <td>0.568489</td>\n",
       "      <td>-1.959202</td>\n",
       "      <td>-2.531257</td>\n",
       "      <td>-1.322218</td>\n",
       "      <td>-0.395061</td>\n",
       "      <td>-0.344806</td>\n",
       "      <td>0.156073</td>\n",
       "      <td>317108.0</td>\n",
       "      <td>0.0</td>\n",
       "      <td>0.279816</td>\n",
       "      <td>1.0</td>\n",
       "    </tr>\n",
       "    <tr>\n",
       "      <th>8</th>\n",
       "      <td>-1.331029e+07</td>\n",
       "      <td>2.445135e+05</td>\n",
       "      <td>1.006052</td>\n",
       "      <td>-1.954848</td>\n",
       "      <td>-2.559460</td>\n",
       "      <td>-1.282738</td>\n",
       "      <td>-0.390707</td>\n",
       "      <td>-0.345093</td>\n",
       "      <td>0.152652</td>\n",
       "      <td>465410.0</td>\n",
       "      <td>0.0</td>\n",
       "      <td>0.270170</td>\n",
       "      <td>0.0</td>\n",
       "    </tr>\n",
       "    <tr>\n",
       "      <th>9</th>\n",
       "      <td>8.622433e+07</td>\n",
       "      <td>2.467649e+05</td>\n",
       "      <td>-0.361226</td>\n",
       "      <td>3.170315</td>\n",
       "      <td>0.395103</td>\n",
       "      <td>3.676348</td>\n",
       "      <td>2.530987</td>\n",
       "      <td>1.348630</td>\n",
       "      <td>6.405894</td>\n",
       "      <td>99999999.0</td>\n",
       "      <td>1.0</td>\n",
       "      <td>57.151086</td>\n",
       "      <td>0.0</td>\n",
       "    </tr>\n",
       "  </tbody>\n",
       "</table>\n",
       "</div>"
      ],
      "text/plain": [
       "              0             2        13  Current Loan Amount + Term  \\\n",
       "0  8.622449e+07  7.306387e+05 -0.243580                    3.170315   \n",
       "1 -1.355825e+07 -2.868349e+05 -0.447374                    0.241348   \n",
       "2 -1.322659e+07  1.118057e+06 -0.342832                    0.251067   \n",
       "3  8.622391e+07 -7.853911e+05 -0.157547                    3.170315   \n",
       "4  8.622393e+07 -7.323161e+05 -0.243550                    3.170315   \n",
       "5 -1.354197e+07 -7.859454e+05 -0.247020                    0.241832   \n",
       "6 -1.310952e+07  4.177273e+05  0.415508                   -1.948954   \n",
       "7 -1.345880e+07 -3.438790e+05  0.568489                   -1.959202   \n",
       "8 -1.331029e+07  2.445135e+05  1.006052                   -1.954848   \n",
       "9  8.622433e+07  2.467649e+05 -0.361226                    3.170315   \n",
       "\n",
       "   1 / Current Loan Amount  Credit Score + Current Loan Amount  \\\n",
       "0                 0.395103                            3.500711   \n",
       "1                -2.512688                            0.185342   \n",
       "2                -2.575586                           -1.631566   \n",
       "3                 0.395103                            3.044054   \n",
       "4                 0.395103                            3.465583   \n",
       "5                -2.515745                            0.080443   \n",
       "6                -2.598662                           -0.047383   \n",
       "7                -2.531257                           -1.322218   \n",
       "8                -2.559460                           -1.282738   \n",
       "9                 0.395103                            3.676348   \n",
       "\n",
       "   Current Loan Amount_x  Credit Ration per Year_x  Current Loan Amount^2  \\\n",
       "0               2.530987                  0.981006               6.405894   \n",
       "1              -0.397980                 -0.347665               0.158388   \n",
       "2              -0.388261                 -0.346753               0.150747   \n",
       "3               2.530987                  3.813597               6.405894   \n",
       "4               2.530987                  3.483131               6.405894   \n",
       "5              -0.397497                 -0.343082               0.158003   \n",
       "6              -0.384813                 -0.342250               0.148081   \n",
       "7              -0.395061                 -0.344806               0.156073   \n",
       "8              -0.390707                 -0.345093               0.152652   \n",
       "9               2.530987                  1.348630               6.405894   \n",
       "\n",
       "   Current Loan Amount_y  Term  Credit Ration per Year_y  Loan Status  \n",
       "0             99999999.0   1.0                 44.805035          0.0  \n",
       "1               217646.0   1.0                  0.183793          0.0  \n",
       "2               548746.0   1.0                  0.214428          0.0  \n",
       "3             99999999.0   1.0                139.932943          0.0  \n",
       "4             99999999.0   1.0                128.834766          0.0  \n",
       "5               234124.0   1.0                  0.337727          0.0  \n",
       "6               666204.0   0.0                  0.365651          0.0  \n",
       "7               317108.0   0.0                  0.279816          1.0  \n",
       "8               465410.0   0.0                  0.270170          0.0  \n",
       "9             99999999.0   1.0                 57.151086          0.0  "
      ]
     },
     "execution_count": 90,
     "metadata": {},
     "output_type": "execute_result"
    }
   ],
   "source": [
    "select = SelectKBest(f_classif, k=3)\n",
    "selected_features_pca = select.fit(df_PCA, target.values)\n",
    "indices_selected_pca = selected_features_pca.get_support(indices=True)\n",
    "colnames_selected_pca = [df_PCA.columns[i] for i in indices_selected_pca]\n",
    "\n",
    "df_PCA = df_PCA[colnames_selected_pca]\n",
    "\n",
    "select = SelectKBest(f_classif, k=3)\n",
    "selected_features_ft = select.fit(df_FT, target.values)\n",
    "indices_selected_ft = selected_features_ft.get_support(indices=True)\n",
    "colnames_selected_ft = [df_FT.columns[i] for i in indices_selected_ft]\n",
    "\n",
    "df_FT = df_FT[colnames_selected_ft]\n",
    "\n",
    "select = SelectKBest(f_classif, k=3)\n",
    "selected_features_poly = select.fit(df_poly, target.values)\n",
    "indices_selected_poly = selected_features_poly.get_support(indices=True)\n",
    "colnames_selected_poly = [df_poly.columns[i] for i in indices_selected_poly]\n",
    "\n",
    "df_poly = df_poly[colnames_selected_poly]\n",
    "\n",
    "select = SelectKBest(f_classif, k=3)\n",
    "selected_features_default = select.fit(df_default, target.values)\n",
    "indices_selected_default = selected_features_default.get_support(indices=True)\n",
    "colnames_selected_default = [df_default.columns[i] for i in indices_selected_default]\n",
    "\n",
    "df_default = df_default[colnames_selected_default]\n",
    "\n",
    "\n",
    "df = df_default.reset_index(drop=True).merge(target.reset_index(drop=True), left_index=True, right_index=True)\n",
    "df = df_poly.reset_index(drop=True).merge(df.reset_index(drop=True), left_index=True, right_index=True)\n",
    "df = df_FT.reset_index(drop=True).merge(df.reset_index(drop=True), left_index=True, right_index=True)\n",
    "df_with_pca = df_PCA.reset_index(drop=True).merge(df.reset_index(drop=True), left_index=True, right_index=True)\n",
    "\n",
    "df_with_pca.head(10)"
   ]
  },
  {
   "cell_type": "markdown",
   "metadata": {},
   "source": [
    "## Run with ALL datasets merged to one"
   ]
  },
  {
   "cell_type": "code",
   "execution_count": 91,
   "metadata": {},
   "outputs": [],
   "source": [
    "y = df['Loan Status']\n",
    "X = df.drop(columns='Loan Status')\n",
    "\n",
    "standard_scaler = StandardScaler()\n",
    "X = pd.DataFrame(standard_scaler.fit_transform(X), columns=X.columns)\n",
    "y = pd.DataFrame(y)\n",
    "\n",
    "X_train, X_test, y_train, y_test = train_test_split(X, y, test_size=0.33, random_state=10, stratify=y)"
   ]
  },
  {
   "cell_type": "code",
   "execution_count": 92,
   "metadata": {},
   "outputs": [],
   "source": [
    "# param values\n",
    "neighbors = range(1, 32, 2)\n",
    "weight = [\"uniform\", \"distance\"]\n",
    "pp = [1, 2]\n",
    "algo = [\"auto\"]\n",
    "metric = [\"minkowski\", \"manhattan\"]\n",
    "# creating  grid instance\n",
    "grid_params_nn = dict(n_neighbors=neighbors, weights=weight, p=pp, algorithm=algo, metric=metric)"
   ]
  },
  {
   "cell_type": "code",
   "execution_count": 93,
   "metadata": {
    "scrolled": false
   },
   "outputs": [
    {
     "name": "stdout",
     "output_type": "stream",
     "text": [
      "Fitting 10 folds for each of 128 candidates, totalling 1280 fits\n"
     ]
    },
    {
     "name": "stderr",
     "output_type": "stream",
     "text": [
      "[Parallel(n_jobs=-1)]: Using backend LokyBackend with 4 concurrent workers.\n",
      "[Parallel(n_jobs=-1)]: Done   5 tasks      | elapsed:    2.7s\n",
      "[Parallel(n_jobs=-1)]: Done  10 tasks      | elapsed:    3.2s\n",
      "[Parallel(n_jobs=-1)]: Done  17 tasks      | elapsed:    3.7s\n",
      "[Parallel(n_jobs=-1)]: Done  24 tasks      | elapsed:    4.8s\n",
      "[Parallel(n_jobs=-1)]: Done  33 tasks      | elapsed:    6.3s\n",
      "[Parallel(n_jobs=-1)]: Done  42 tasks      | elapsed:    7.8s\n",
      "[Parallel(n_jobs=-1)]: Done  53 tasks      | elapsed:    9.8s\n",
      "[Parallel(n_jobs=-1)]: Done  64 tasks      | elapsed:   11.7s\n",
      "[Parallel(n_jobs=-1)]: Done  77 tasks      | elapsed:   13.9s\n",
      "[Parallel(n_jobs=-1)]: Done  90 tasks      | elapsed:   17.4s\n",
      "[Parallel(n_jobs=-1)]: Done 105 tasks      | elapsed:   20.6s\n",
      "[Parallel(n_jobs=-1)]: Done 120 tasks      | elapsed:   22.4s\n",
      "[Parallel(n_jobs=-1)]: Done 137 tasks      | elapsed:   26.4s\n",
      "[Parallel(n_jobs=-1)]: Done 154 tasks      | elapsed:   30.3s\n",
      "[Parallel(n_jobs=-1)]: Done 173 tasks      | elapsed:   34.8s\n",
      "[Parallel(n_jobs=-1)]: Done 192 tasks      | elapsed:   39.1s\n",
      "[Parallel(n_jobs=-1)]: Done 213 tasks      | elapsed:   43.9s\n",
      "[Parallel(n_jobs=-1)]: Done 234 tasks      | elapsed:   48.5s\n",
      "[Parallel(n_jobs=-1)]: Done 257 tasks      | elapsed:   53.8s\n",
      "[Parallel(n_jobs=-1)]: Done 280 tasks      | elapsed:   58.9s\n",
      "[Parallel(n_jobs=-1)]: Done 305 tasks      | elapsed:  1.1min\n",
      "[Parallel(n_jobs=-1)]: Done 330 tasks      | elapsed:  1.2min\n",
      "[Parallel(n_jobs=-1)]: Done 357 tasks      | elapsed:  1.3min\n",
      "[Parallel(n_jobs=-1)]: Done 384 tasks      | elapsed:  1.4min\n",
      "[Parallel(n_jobs=-1)]: Done 413 tasks      | elapsed:  1.6min\n",
      "[Parallel(n_jobs=-1)]: Done 442 tasks      | elapsed:  1.7min\n",
      "[Parallel(n_jobs=-1)]: Done 473 tasks      | elapsed:  1.8min\n",
      "[Parallel(n_jobs=-1)]: Done 504 tasks      | elapsed:  2.0min\n",
      "[Parallel(n_jobs=-1)]: Done 537 tasks      | elapsed:  2.1min\n",
      "[Parallel(n_jobs=-1)]: Done 570 tasks      | elapsed:  2.3min\n",
      "[Parallel(n_jobs=-1)]: Done 605 tasks      | elapsed:  2.5min\n",
      "[Parallel(n_jobs=-1)]: Done 640 tasks      | elapsed:  2.6min\n",
      "[Parallel(n_jobs=-1)]: Done 677 tasks      | elapsed:  2.7min\n",
      "[Parallel(n_jobs=-1)]: Done 714 tasks      | elapsed:  2.8min\n",
      "[Parallel(n_jobs=-1)]: Done 753 tasks      | elapsed:  2.9min\n",
      "[Parallel(n_jobs=-1)]: Done 792 tasks      | elapsed:  3.1min\n",
      "[Parallel(n_jobs=-1)]: Done 833 tasks      | elapsed:  3.2min\n",
      "[Parallel(n_jobs=-1)]: Done 874 tasks      | elapsed:  3.4min\n",
      "[Parallel(n_jobs=-1)]: Done 917 tasks      | elapsed:  3.6min\n",
      "[Parallel(n_jobs=-1)]: Done 960 tasks      | elapsed:  3.7min\n",
      "[Parallel(n_jobs=-1)]: Done 1005 tasks      | elapsed:  3.9min\n",
      "[Parallel(n_jobs=-1)]: Done 1050 tasks      | elapsed:  4.1min\n",
      "[Parallel(n_jobs=-1)]: Done 1097 tasks      | elapsed:  4.3min\n",
      "[Parallel(n_jobs=-1)]: Done 1144 tasks      | elapsed:  4.6min\n",
      "[Parallel(n_jobs=-1)]: Done 1193 tasks      | elapsed:  4.8min\n",
      "[Parallel(n_jobs=-1)]: Done 1242 tasks      | elapsed:  5.1min\n",
      "[Parallel(n_jobs=-1)]: Done 1280 out of 1280 | elapsed:  5.2min finished\n"
     ]
    },
    {
     "data": {
      "text/plain": [
       "GridSearchCV(cv=10, error_score='raise-deprecating',\n",
       "       estimator=KNeighborsClassifier(algorithm='auto', leaf_size=30, metric='minkowski',\n",
       "           metric_params=None, n_jobs=None, n_neighbors=5, p=2,\n",
       "           weights='uniform'),\n",
       "       fit_params=None, iid='warn', n_jobs=-1,\n",
       "       param_grid={'metric': ['minkowski', 'manhattan'], 'algorithm': ['auto'], 'p': [1, 2], 'weights': ['uniform', 'distance'], 'n_neighbors': range(1, 32, 2)},\n",
       "       pre_dispatch='2*n_jobs', refit=True, return_train_score='warn',\n",
       "       scoring='f1', verbose=10)"
      ]
     },
     "execution_count": 93,
     "metadata": {},
     "output_type": "execute_result"
    }
   ],
   "source": [
    "# creating KNN instance\n",
    "knn = KNeighborsClassifier()\n",
    "knnCV = GridSearchCV(knn, grid_params_nn, cv=10, scoring='f1', verbose=10, n_jobs=-1)\n",
    "\n",
    "knnCV.fit(X_train, y_train.values.ravel())"
   ]
  },
  {
   "cell_type": "code",
   "execution_count": 94,
   "metadata": {},
   "outputs": [
    {
     "name": "stdout",
     "output_type": "stream",
     "text": [
      "Best score without PCA: 0.3069460062327976\n",
      "Best params without PCA: {'p': 1, 'algorithm': 'auto', 'metric': 'minkowski', 'weights': 'uniform', 'n_neighbors': 1}\n"
     ]
    }
   ],
   "source": [
    "# print results\n",
    "\n",
    "best_score = knnCV.best_score_\n",
    "\n",
    "best_params = knnCV.best_params_\n",
    "\n",
    "print(\"Best score without PCA: {0}\".format(best_score))\n",
    "print(\"Best params without PCA: {0}\".format(best_params))\n",
    "\n",
    "f = open(\"../results/files/knn_tuning_results_temp.txt\", \"w+\")\n",
    "\n",
    "f.write(\"Best score = {0} \\n\".format(best_score))\n",
    "f.write(\"Best params = {0} \\n\".format(best_params))\n",
    "\n",
    "f.close()"
   ]
  },
  {
   "cell_type": "code",
   "execution_count": 95,
   "metadata": {},
   "outputs": [
    {
     "data": {
      "text/plain": [
       "KNeighborsClassifier(algorithm='auto', leaf_size=30, metric='minkowski',\n",
       "           metric_params=None, n_jobs=None, n_neighbors=1, p=1,\n",
       "           weights='uniform')"
      ]
     },
     "execution_count": 95,
     "metadata": {},
     "output_type": "execute_result"
    }
   ],
   "source": [
    "# create KNN instance\n",
    "knn = knnCV.best_estimator_\n",
    "knn.fit(X_train, y_train.values.ravel())"
   ]
  },
  {
   "cell_type": "code",
   "execution_count": 96,
   "metadata": {},
   "outputs": [],
   "source": [
    "y_pred = knn.predict(X_test)"
   ]
  },
  {
   "cell_type": "code",
   "execution_count": 97,
   "metadata": {},
   "outputs": [
    {
     "data": {
      "text/plain": [
       "'F1 score without PCA is = 0.31429187324854496'"
      ]
     },
     "execution_count": 97,
     "metadata": {},
     "output_type": "execute_result"
    }
   ],
   "source": [
    "# calculate F1 score\n",
    "f1 = f1_score(y_test, y_pred)\n",
    "\"F1 score without PCA is = {0}\".format(f1)"
   ]
  },
  {
   "cell_type": "code",
   "execution_count": 98,
   "metadata": {},
   "outputs": [],
   "source": [
    "y = df_with_pca['Loan Status']\n",
    "X = df_with_pca.drop(columns='Loan Status')\n",
    "\n",
    "standard_scaler = StandardScaler()\n",
    "X = pd.DataFrame(standard_scaler.fit_transform(X), columns=X.columns)\n",
    "y = pd.DataFrame(y)\n",
    "\n",
    "X_train, X_test, y_train, y_test = train_test_split(X, y, test_size=0.33, random_state=10, stratify=y)"
   ]
  },
  {
   "cell_type": "code",
   "execution_count": 99,
   "metadata": {},
   "outputs": [
    {
     "name": "stdout",
     "output_type": "stream",
     "text": [
      "Fitting 10 folds for each of 128 candidates, totalling 1280 fits\n"
     ]
    },
    {
     "name": "stderr",
     "output_type": "stream",
     "text": [
      "[Parallel(n_jobs=-1)]: Using backend LokyBackend with 4 concurrent workers.\n",
      "[Parallel(n_jobs=-1)]: Done   5 tasks      | elapsed:    1.7s\n",
      "[Parallel(n_jobs=-1)]: Done  10 tasks      | elapsed:    1.9s\n",
      "[Parallel(n_jobs=-1)]: Done  17 tasks      | elapsed:    2.5s\n",
      "[Parallel(n_jobs=-1)]: Done  24 tasks      | elapsed:    3.4s\n",
      "[Parallel(n_jobs=-1)]: Done  33 tasks      | elapsed:    4.7s\n",
      "[Parallel(n_jobs=-1)]: Done  42 tasks      | elapsed:    6.2s\n",
      "[Parallel(n_jobs=-1)]: Done  53 tasks      | elapsed:    8.6s\n",
      "[Parallel(n_jobs=-1)]: Done  64 tasks      | elapsed:   10.5s\n",
      "[Parallel(n_jobs=-1)]: Done  77 tasks      | elapsed:   12.9s\n",
      "[Parallel(n_jobs=-1)]: Done  90 tasks      | elapsed:   16.4s\n",
      "[Parallel(n_jobs=-1)]: Done 105 tasks      | elapsed:   19.9s\n",
      "[Parallel(n_jobs=-1)]: Done 120 tasks      | elapsed:   22.2s\n",
      "[Parallel(n_jobs=-1)]: Done 137 tasks      | elapsed:   26.8s\n",
      "[Parallel(n_jobs=-1)]: Done 154 tasks      | elapsed:   30.9s\n",
      "[Parallel(n_jobs=-1)]: Done 173 tasks      | elapsed:   35.7s\n",
      "[Parallel(n_jobs=-1)]: Done 192 tasks      | elapsed:   40.3s\n",
      "[Parallel(n_jobs=-1)]: Done 213 tasks      | elapsed:   45.6s\n",
      "[Parallel(n_jobs=-1)]: Done 234 tasks      | elapsed:   50.8s\n",
      "[Parallel(n_jobs=-1)]: Done 257 tasks      | elapsed:   56.9s\n",
      "[Parallel(n_jobs=-1)]: Done 280 tasks      | elapsed:  1.0min\n",
      "[Parallel(n_jobs=-1)]: Done 305 tasks      | elapsed:  1.2min\n",
      "[Parallel(n_jobs=-1)]: Done 330 tasks      | elapsed:  1.3min\n",
      "[Parallel(n_jobs=-1)]: Done 357 tasks      | elapsed:  1.4min\n",
      "[Parallel(n_jobs=-1)]: Done 384 tasks      | elapsed:  1.6min\n",
      "[Parallel(n_jobs=-1)]: Done 413 tasks      | elapsed:  1.7min\n",
      "[Parallel(n_jobs=-1)]: Done 442 tasks      | elapsed:  1.8min\n",
      "[Parallel(n_jobs=-1)]: Done 473 tasks      | elapsed:  2.0min\n",
      "[Parallel(n_jobs=-1)]: Done 504 tasks      | elapsed:  2.2min\n",
      "[Parallel(n_jobs=-1)]: Done 537 tasks      | elapsed:  2.3min\n",
      "[Parallel(n_jobs=-1)]: Done 570 tasks      | elapsed:  2.5min\n",
      "[Parallel(n_jobs=-1)]: Done 605 tasks      | elapsed:  2.7min\n",
      "[Parallel(n_jobs=-1)]: Done 640 tasks      | elapsed:  2.9min\n",
      "[Parallel(n_jobs=-1)]: Done 677 tasks      | elapsed:  3.0min\n",
      "[Parallel(n_jobs=-1)]: Done 714 tasks      | elapsed:  3.1min\n",
      "[Parallel(n_jobs=-1)]: Done 753 tasks      | elapsed:  3.3min\n",
      "[Parallel(n_jobs=-1)]: Done 792 tasks      | elapsed:  3.4min\n",
      "[Parallel(n_jobs=-1)]: Done 833 tasks      | elapsed:  3.6min\n",
      "[Parallel(n_jobs=-1)]: Done 874 tasks      | elapsed:  3.8min\n",
      "[Parallel(n_jobs=-1)]: Done 917 tasks      | elapsed:  4.0min\n",
      "[Parallel(n_jobs=-1)]: Done 960 tasks      | elapsed:  4.2min\n",
      "[Parallel(n_jobs=-1)]: Done 1005 tasks      | elapsed:  4.5min\n",
      "[Parallel(n_jobs=-1)]: Done 1050 tasks      | elapsed:  4.7min\n",
      "[Parallel(n_jobs=-1)]: Done 1097 tasks      | elapsed:  5.0min\n",
      "[Parallel(n_jobs=-1)]: Done 1144 tasks      | elapsed:  5.2min\n",
      "[Parallel(n_jobs=-1)]: Done 1193 tasks      | elapsed:  5.5min\n",
      "[Parallel(n_jobs=-1)]: Done 1242 tasks      | elapsed:  5.8min\n",
      "[Parallel(n_jobs=-1)]: Done 1280 out of 1280 | elapsed:  6.0min finished\n"
     ]
    },
    {
     "data": {
      "text/plain": [
       "GridSearchCV(cv=10, error_score='raise-deprecating',\n",
       "       estimator=KNeighborsClassifier(algorithm='auto', leaf_size=30, metric='minkowski',\n",
       "           metric_params=None, n_jobs=None, n_neighbors=5, p=2,\n",
       "           weights='uniform'),\n",
       "       fit_params=None, iid='warn', n_jobs=-1,\n",
       "       param_grid={'metric': ['minkowski', 'manhattan'], 'algorithm': ['auto'], 'p': [1, 2], 'weights': ['uniform', 'distance'], 'n_neighbors': range(1, 32, 2)},\n",
       "       pre_dispatch='2*n_jobs', refit=True, return_train_score='warn',\n",
       "       scoring='f1', verbose=10)"
      ]
     },
     "execution_count": 99,
     "metadata": {},
     "output_type": "execute_result"
    }
   ],
   "source": [
    "# creating KNN instance\n",
    "knn = KNeighborsClassifier()\n",
    "knnCV = GridSearchCV(knn, grid_params_nn, cv=10, scoring='f1', verbose=10, n_jobs=-1)\n",
    "\n",
    "knnCV.fit(X_train, y_train.values.ravel())"
   ]
  },
  {
   "cell_type": "code",
   "execution_count": 100,
   "metadata": {},
   "outputs": [
    {
     "name": "stdout",
     "output_type": "stream",
     "text": [
      "Best score with PCA: 0.30992761721297013\n",
      "Best params with PCA: {'p': 2, 'algorithm': 'auto', 'metric': 'minkowski', 'weights': 'uniform', 'n_neighbors': 1}\n"
     ]
    }
   ],
   "source": [
    "# print results\n",
    "\n",
    "best_score = knnCV.best_score_\n",
    "\n",
    "best_params = knnCV.best_params_\n",
    "\n",
    "print(\"Best score with PCA: {0}\".format(best_score))\n",
    "print(\"Best params with PCA: {0}\".format(best_params))\n",
    "\n",
    "f = open(\"../results/files/knn_tuning_results_temp.txt\", \"a\")\n",
    "\n",
    "f.write(\"Best score with PCA = {0} \\n\".format(best_score))\n",
    "f.write(\"Best params with PCA = {0} \\n\".format(best_params))\n",
    "\n",
    "f.close()"
   ]
  },
  {
   "cell_type": "code",
   "execution_count": 101,
   "metadata": {},
   "outputs": [
    {
     "data": {
      "text/plain": [
       "KNeighborsClassifier(algorithm='auto', leaf_size=30, metric='minkowski',\n",
       "           metric_params=None, n_jobs=None, n_neighbors=1, p=2,\n",
       "           weights='uniform')"
      ]
     },
     "execution_count": 101,
     "metadata": {},
     "output_type": "execute_result"
    }
   ],
   "source": [
    "# create KNN instance\n",
    "knn = knnCV.best_estimator_\n",
    "knn.fit(X_train, y_train.values.ravel())"
   ]
  },
  {
   "cell_type": "code",
   "execution_count": 102,
   "metadata": {},
   "outputs": [],
   "source": [
    "y_pred_pca = knn.predict(X_test)"
   ]
  },
  {
   "cell_type": "code",
   "execution_count": 103,
   "metadata": {},
   "outputs": [
    {
     "data": {
      "text/plain": [
       "'F1 score with PCA is = 0.3158124318429662'"
      ]
     },
     "execution_count": 103,
     "metadata": {},
     "output_type": "execute_result"
    }
   ],
   "source": [
    "# calculate F1 score\n",
    "f1_pca = f1_score(y_test, y_pred_pca)\n",
    "\"F1 score with PCA is = {0}\".format(f1_pca)"
   ]
  },
  {
   "cell_type": "code",
   "execution_count": 104,
   "metadata": {},
   "outputs": [
    {
     "name": "stdout",
     "output_type": "stream",
     "text": [
      "Confusion matrix, without normalization\n"
     ]
    },
    {
     "data": {
      "image/png": "[encoded data removed]",
      "text/plain": [
       "<Figure size 432x288 with 2 Axes>"
      ]
     },
     "metadata": {
      "needs_background": "light"
     },
     "output_type": "display_data"
    },
    {
     "name": "stdout",
     "output_type": "stream",
     "text": [
      "Confusion matrix, without normalization\n"
     ]
    },
    {
     "data": {
      "image/png": "[encoded data removed]",
      "text/plain": [
       "<Figure size 432x288 with 2 Axes>"
      ]
     },
     "metadata": {
      "needs_background": "light"
     },
     "output_type": "display_data"
    }
   ],
   "source": [
    "import matplotlib.pyplot as plt\n",
    "import itertools\n",
    "from sklearn.metrics import confusion_matrix\n",
    "import numpy as np\n",
    "cm_final = confusion_matrix(y_test, y_pred)\n",
    "cm_final_pca = confusion_matrix(y_test, y_pred_pca)\n",
    "\n",
    "np.set_printoptions(precision=2)\n",
    "\n",
    "plt.figure()\n",
    "plot_confusion_matrix(cm_final, classes=['0','1'],\n",
    "                      title='Confusion matrix, basic')\n",
    "plt.show()\n",
    "plt.figure()\n",
    "plot_confusion_matrix(cm_final_pca, classes=['0','1'],\n",
    "                      title='Confusion matrix, with pca')\n",
    "plt.show()"
   ]
  }
 ],
 "metadata": {
  "kernelspec": {
   "display_name": "Python 3",
   "language": "python",
   "name": "python3"
  },
  "language_info": {
   "codemirror_mode": {
    "name": "ipython",
    "version": 3
   },
   "file_extension": ".py",
   "mimetype": "text/x-python",
   "name": "python",
   "nbconvert_exporter": "python",
   "pygments_lexer": "ipython3",
   "version": "3.5.3"
  }
 },
 "nbformat": 4,
 "nbformat_minor": 2
}
