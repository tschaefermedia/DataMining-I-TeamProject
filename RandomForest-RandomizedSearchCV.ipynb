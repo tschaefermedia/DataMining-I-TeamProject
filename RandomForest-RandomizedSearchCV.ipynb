{
 "cells": [
  {
   "cell_type": "code",
   "execution_count": 14,
   "metadata": {},
   "outputs": [],
   "source": [
    "# imports \n",
    "import functions\n",
    "import pandas as pd\n",
    "import numpy as np\n",
    "import matplotlib.pyplot as plt\n",
    "import sklearn\n",
    "from sklearn.model_selection import train_test_split\n",
    "from sklearn import ensemble, preprocessing, metrics\n",
    "from sklearn.model_selection import cross_val_score\n",
    "from sklearn.metrics import f1_score\n",
    "from sklearn.metrics import roc_curve, auc\n",
    "from sklearn.model_selection import RandomizedSearchCV"
   ]
  },
  {
   "cell_type": "code",
   "execution_count": 2,
   "metadata": {},
   "outputs": [],
   "source": [
    "x, y = functions.get_data(standard=False,minmax=True)"
   ]
  },
  {
   "cell_type": "code",
   "execution_count": 3,
   "metadata": {},
   "outputs": [],
   "source": [
    "from sklearn.utils import resample\n",
    "import copy"
   ]
  },
  {
   "cell_type": "code",
   "execution_count": 4,
   "metadata": {},
   "outputs": [
    {
     "data": {
      "text/plain": [
       "Index(['Current Loan Amount', 'Term', 'Credit Score', 'Annual Income',\n",
       "       'Years in current job', 'Monthly Debt', 'Years of Credit History',\n",
       "       'Months since last delinquent', 'Number of Open Accounts',\n",
       "       'Number of Credit Problems', 'Current Credit Balance',\n",
       "       'Maximum Open Credit', 'Bankruptcies', 'Tax Liens', 'Monthly Income',\n",
       "       'Credit Ration per Year', 'Home Ownership_HaveMortgage',\n",
       "       'Home Ownership_Home Mortgage', 'Home Ownership_Own Home',\n",
       "       'Home Ownership_Rent', 'Purpose_Business Loan', 'Purpose_Buy House',\n",
       "       'Purpose_Buy a Car', 'Purpose_Debt Consolidation',\n",
       "       'Purpose_Educational Expenses', 'Purpose_Home Improvements',\n",
       "       'Purpose_Medical Bills', 'Purpose_Other', 'Purpose_Take a Trip',\n",
       "       'Purpose_major_purchase', 'Purpose_moving', 'Purpose_other',\n",
       "       'Purpose_renewable_energy', 'Purpose_small_business',\n",
       "       'Purpose_vacation', 'Purpose_wedding'],\n",
       "      dtype='object')"
      ]
     },
     "execution_count": 4,
     "metadata": {},
     "output_type": "execute_result"
    }
   ],
   "source": [
    "x.columns"
   ]
  },
  {
   "cell_type": "code",
   "execution_count": 5,
   "metadata": {},
   "outputs": [],
   "source": [
    "#del x['Number of Credit Problems']\n",
    "#del x['Bankruptcies']\n",
    "#del x['Term']\n",
    "# remove one hot encoding features\n",
    "del x['Home Ownership_HaveMortgage']\n",
    "del x['Home Ownership_Home Mortgage']\n",
    "del x['Home Ownership_Own Home']\n",
    "del x['Home Ownership_Rent']\n",
    "del x['Purpose_Business Loan']\n",
    "del x['Purpose_Buy House']\n",
    "del x['Purpose_Buy a Car']\n",
    "del x['Purpose_Debt Consolidation']\n",
    "del x['Purpose_Educational Expenses']\n",
    "del x['Purpose_Home Improvements']\n",
    "del x['Purpose_Medical Bills']\n",
    "del x['Purpose_Other']\n",
    "del x['Purpose_Take a Trip']\n",
    "del x['Purpose_major_purchase']\n",
    "del x['Purpose_moving']\n",
    "del x['Purpose_other']\n",
    "del x['Purpose_renewable_energy']\n",
    "del x['Purpose_small_business']\n",
    "del x['Purpose_vacation']\n",
    "del x['Purpose_wedding']\n",
    "del x['Tax Liens']"
   ]
  },
  {
   "cell_type": "code",
   "execution_count": 6,
   "metadata": {},
   "outputs": [],
   "source": [
    "df = copy.copy(x)\n",
    "df['Loan Status'] = y"
   ]
  },
  {
   "cell_type": "code",
   "execution_count": 7,
   "metadata": {},
   "outputs": [
    {
     "data": {
      "text/plain": [
       "1    7451\n",
       "0    7451\n",
       "Name: Loan Status, dtype: int64"
      ]
     },
     "execution_count": 7,
     "metadata": {},
     "output_type": "execute_result"
    }
   ],
   "source": [
    "# Separate majority and minority classes\n",
    "df_majority = df[df['Loan Status'] ==0]\n",
    "df_minority = df[df['Loan Status'] ==1]\n",
    " \n",
    "# Upsample minority class\n",
    "df_minority_upsampled = resample(df_minority, \n",
    "                                 replace=True,     # sample with replacement\n",
    "                                 n_samples=7451,    # to match majority class\n",
    "                                 random_state=123) # reproducible results\n",
    " \n",
    "# Combine majority class with upsampled minority class\n",
    "df_upsampled = pd.concat([df_majority, df_minority_upsampled])\n",
    " \n",
    "# Display new class counts\n",
    "df_upsampled['Loan Status'].value_counts()\n",
    "# 1    7451\n",
    "# 0    7451"
   ]
  },
  {
   "cell_type": "code",
   "execution_count": 8,
   "metadata": {},
   "outputs": [],
   "source": [
    "# split dataset into train and test data\n",
    "x_train, x_test, y_train, y_test = train_test_split(df_upsampled.drop(columns='Loan Status'), df_upsampled['Loan Status'], test_size=0.33, random_state=10)\n"
   ]
  },
  {
   "cell_type": "code",
   "execution_count": 9,
   "metadata": {},
   "outputs": [
    {
     "name": "stdout",
     "output_type": "stream",
     "text": [
      "9984\n",
      "9984\n",
      "4918\n",
      "4918\n"
     ]
    }
   ],
   "source": [
    "print(len(x_train))\n",
    "print(len(y_train))\n",
    "print(len(x_test))\n",
    "print(len(y_test))"
   ]
  },
  {
   "cell_type": "code",
   "execution_count": 10,
   "metadata": {
    "scrolled": true
   },
   "outputs": [],
   "source": [
    "###### Random forest ######\n",
    "scores = []\n",
    "\n",
    "forest = ensemble.RandomForestClassifier(n_estimators = 10, max_depth = 10)\n",
    "#forest_fit = forest.fit(x_train, y_train)\n",
    "\n",
    "# training - get results\n",
    "scores.append(cross_val_score(forest, x_train, y_train, cv = 20))"
   ]
  },
  {
   "cell_type": "code",
   "execution_count": 20,
   "metadata": {},
   "outputs": [],
   "source": [
    "from skopt.space import Real, Integer\n",
    "from skopt.utils import use_named_args\n",
    "\n",
    "n_features = x_train.shape[1]\n",
    "\n",
    "n_estimators = range(5, 100, 2)\n",
    "max_depth = range(2, 50, 2)\n",
    "max_features = range(2, n_features)\n",
    "min_samples_split = range(2,100)\n",
    "min_samples_leaf = range(2,100)\n",
    "\n",
    "grid_params_nn = dict(n_estimators=n_estimators, max_depth=max_depth, max_features=max_features,\n",
    "                      min_samples_split=min_samples_split, min_samples_leaf=min_samples_leaf)\n",
    "\n",
    "neigh_ins = RandomizedSearchCV(forest, grid_params_nn, cv=10, scoring='f1', n_iter=384, verbose=10, n_jobs=-1)"
   ]
  },
  {
   "cell_type": "code",
   "execution_count": 21,
   "metadata": {
    "scrolled": true
   },
   "outputs": [
    {
     "name": "stdout",
     "output_type": "stream",
     "text": [
      "Fitting 10 folds for each of 384 candidates, totalling 3840 fits\n"
     ]
    },
    {
     "name": "stderr",
     "output_type": "stream",
     "text": [
      "[Parallel(n_jobs=-1)]: Using backend LokyBackend with 4 concurrent workers.\n",
      "[Parallel(n_jobs=-1)]: Done   5 tasks      | elapsed:    3.4s\n",
      "[Parallel(n_jobs=-1)]: Done  10 tasks      | elapsed:    3.7s\n",
      "[Parallel(n_jobs=-1)]: Done  17 tasks      | elapsed:   11.8s\n",
      "[Parallel(n_jobs=-1)]: Done  24 tasks      | elapsed:   15.8s\n",
      "[Parallel(n_jobs=-1)]: Done  33 tasks      | elapsed:   19.7s\n",
      "[Parallel(n_jobs=-1)]: Done  42 tasks      | elapsed:   24.6s\n",
      "[Parallel(n_jobs=-1)]: Done  53 tasks      | elapsed:   27.1s\n",
      "[Parallel(n_jobs=-1)]: Done  64 tasks      | elapsed:   29.5s\n",
      "[Parallel(n_jobs=-1)]: Done  77 tasks      | elapsed:   33.6s\n",
      "[Parallel(n_jobs=-1)]: Done  90 tasks      | elapsed:   44.2s\n",
      "[Parallel(n_jobs=-1)]: Done 105 tasks      | elapsed:   50.1s\n",
      "[Parallel(n_jobs=-1)]: Done 120 tasks      | elapsed:   53.0s\n",
      "[Parallel(n_jobs=-1)]: Done 137 tasks      | elapsed:   54.4s\n",
      "[Parallel(n_jobs=-1)]: Done 154 tasks      | elapsed:  1.2min\n",
      "[Parallel(n_jobs=-1)]: Done 173 tasks      | elapsed:  1.3min\n",
      "[Parallel(n_jobs=-1)]: Done 192 tasks      | elapsed:  1.4min\n",
      "[Parallel(n_jobs=-1)]: Done 213 tasks      | elapsed:  1.5min\n",
      "[Parallel(n_jobs=-1)]: Done 234 tasks      | elapsed:  1.6min\n",
      "[Parallel(n_jobs=-1)]: Done 257 tasks      | elapsed:  1.8min\n",
      "[Parallel(n_jobs=-1)]: Done 280 tasks      | elapsed:  2.0min\n",
      "[Parallel(n_jobs=-1)]: Done 305 tasks      | elapsed:  2.4min\n",
      "[Parallel(n_jobs=-1)]: Done 330 tasks      | elapsed:  2.7min\n",
      "[Parallel(n_jobs=-1)]: Done 357 tasks      | elapsed:  2.9min\n",
      "[Parallel(n_jobs=-1)]: Done 384 tasks      | elapsed:  3.1min\n",
      "[Parallel(n_jobs=-1)]: Done 413 tasks      | elapsed:  3.3min\n",
      "[Parallel(n_jobs=-1)]: Done 442 tasks      | elapsed:  3.4min\n",
      "[Parallel(n_jobs=-1)]: Done 473 tasks      | elapsed:  3.6min\n",
      "[Parallel(n_jobs=-1)]: Done 504 tasks      | elapsed:  3.8min\n",
      "[Parallel(n_jobs=-1)]: Done 537 tasks      | elapsed:  4.0min\n",
      "[Parallel(n_jobs=-1)]: Done 570 tasks      | elapsed:  4.3min\n",
      "[Parallel(n_jobs=-1)]: Done 605 tasks      | elapsed:  4.7min\n",
      "[Parallel(n_jobs=-1)]: Done 640 tasks      | elapsed:  5.0min\n",
      "[Parallel(n_jobs=-1)]: Done 677 tasks      | elapsed:  5.3min\n",
      "[Parallel(n_jobs=-1)]: Done 714 tasks      | elapsed:  5.4min\n",
      "[Parallel(n_jobs=-1)]: Done 753 tasks      | elapsed:  5.7min\n",
      "[Parallel(n_jobs=-1)]: Done 792 tasks      | elapsed:  6.0min\n",
      "[Parallel(n_jobs=-1)]: Done 833 tasks      | elapsed:  6.4min\n",
      "[Parallel(n_jobs=-1)]: Done 874 tasks      | elapsed:  7.0min\n",
      "[Parallel(n_jobs=-1)]: Done 917 tasks      | elapsed:  7.4min\n",
      "[Parallel(n_jobs=-1)]: Done 960 tasks      | elapsed:  7.8min\n",
      "[Parallel(n_jobs=-1)]: Done 1005 tasks      | elapsed:  8.0min\n",
      "[Parallel(n_jobs=-1)]: Done 1050 tasks      | elapsed:  8.4min\n",
      "[Parallel(n_jobs=-1)]: Done 1097 tasks      | elapsed:  8.9min\n",
      "[Parallel(n_jobs=-1)]: Done 1144 tasks      | elapsed:  9.4min\n",
      "[Parallel(n_jobs=-1)]: Done 1193 tasks      | elapsed:  9.9min\n",
      "[Parallel(n_jobs=-1)]: Done 1242 tasks      | elapsed: 10.3min\n",
      "[Parallel(n_jobs=-1)]: Done 1293 tasks      | elapsed: 11.0min\n",
      "[Parallel(n_jobs=-1)]: Done 1344 tasks      | elapsed: 11.2min\n",
      "[Parallel(n_jobs=-1)]: Done 1397 tasks      | elapsed: 11.7min\n",
      "[Parallel(n_jobs=-1)]: Done 1450 tasks      | elapsed: 12.0min\n",
      "[Parallel(n_jobs=-1)]: Done 1505 tasks      | elapsed: 12.4min\n",
      "[Parallel(n_jobs=-1)]: Done 1560 tasks      | elapsed: 12.8min\n",
      "[Parallel(n_jobs=-1)]: Done 1617 tasks      | elapsed: 13.2min\n",
      "[Parallel(n_jobs=-1)]: Done 1674 tasks      | elapsed: 13.7min\n",
      "[Parallel(n_jobs=-1)]: Done 1733 tasks      | elapsed: 14.1min\n",
      "[Parallel(n_jobs=-1)]: Done 1792 tasks      | elapsed: 14.5min\n",
      "[Parallel(n_jobs=-1)]: Done 1853 tasks      | elapsed: 14.9min\n",
      "[Parallel(n_jobs=-1)]: Done 1914 tasks      | elapsed: 15.5min\n",
      "[Parallel(n_jobs=-1)]: Done 1977 tasks      | elapsed: 15.9min\n",
      "[Parallel(n_jobs=-1)]: Done 2040 tasks      | elapsed: 16.3min\n",
      "[Parallel(n_jobs=-1)]: Done 2105 tasks      | elapsed: 16.6min\n",
      "[Parallel(n_jobs=-1)]: Done 2170 tasks      | elapsed: 17.2min\n",
      "[Parallel(n_jobs=-1)]: Done 2237 tasks      | elapsed: 17.7min\n",
      "[Parallel(n_jobs=-1)]: Done 2304 tasks      | elapsed: 18.1min\n",
      "[Parallel(n_jobs=-1)]: Done 2373 tasks      | elapsed: 18.6min\n",
      "[Parallel(n_jobs=-1)]: Done 2442 tasks      | elapsed: 19.1min\n",
      "[Parallel(n_jobs=-1)]: Done 2513 tasks      | elapsed: 19.7min\n",
      "[Parallel(n_jobs=-1)]: Done 2584 tasks      | elapsed: 20.3min\n",
      "[Parallel(n_jobs=-1)]: Done 2657 tasks      | elapsed: 20.9min\n",
      "[Parallel(n_jobs=-1)]: Done 2730 tasks      | elapsed: 21.6min\n",
      "[Parallel(n_jobs=-1)]: Done 2805 tasks      | elapsed: 22.2min\n",
      "[Parallel(n_jobs=-1)]: Done 2880 tasks      | elapsed: 22.9min\n",
      "[Parallel(n_jobs=-1)]: Done 2957 tasks      | elapsed: 23.7min\n",
      "[Parallel(n_jobs=-1)]: Done 3034 tasks      | elapsed: 24.1min\n",
      "[Parallel(n_jobs=-1)]: Done 3113 tasks      | elapsed: 24.7min\n",
      "[Parallel(n_jobs=-1)]: Done 3192 tasks      | elapsed: 25.4min\n",
      "[Parallel(n_jobs=-1)]: Done 3273 tasks      | elapsed: 26.3min\n",
      "[Parallel(n_jobs=-1)]: Done 3354 tasks      | elapsed: 26.7min\n",
      "[Parallel(n_jobs=-1)]: Done 3437 tasks      | elapsed: 27.3min\n",
      "[Parallel(n_jobs=-1)]: Done 3520 tasks      | elapsed: 28.1min\n",
      "[Parallel(n_jobs=-1)]: Done 3605 tasks      | elapsed: 28.7min\n",
      "[Parallel(n_jobs=-1)]: Done 3690 tasks      | elapsed: 29.2min\n",
      "[Parallel(n_jobs=-1)]: Done 3777 tasks      | elapsed: 29.7min\n",
      "[Parallel(n_jobs=-1)]: Done 3840 out of 3840 | elapsed: 30.3min finished\n"
     ]
    },
    {
     "data": {
      "text/plain": [
       "RandomizedSearchCV(cv=10, error_score='raise-deprecating',\n",
       "          estimator=RandomForestClassifier(bootstrap=True, class_weight=None, criterion='gini',\n",
       "            max_depth=10, max_features='auto', max_leaf_nodes=None,\n",
       "            min_impurity_decrease=0.0, min_impurity_split=None,\n",
       "            min_samples_leaf=1, min_samples_split=2,\n",
       "            min_weight_fraction_leaf=0.0, n_estimators=10, n_jobs=None,\n",
       "            oob_score=False, random_state=None, verbose=0,\n",
       "            warm_start=False),\n",
       "          fit_params=None, iid='warn', n_iter=384, n_jobs=-1,\n",
       "          param_distributions={'n_estimators': range(5, 100, 2), 'max_depth': range(2, 50, 2), 'max_features': range(2, 15), 'min_samples_split': range(2, 100), 'min_samples_leaf': range(2, 100)},\n",
       "          pre_dispatch='2*n_jobs', random_state=None, refit=True,\n",
       "          return_train_score='warn', scoring='f1', verbose=10)"
      ]
     },
     "execution_count": 21,
     "metadata": {},
     "output_type": "execute_result"
    }
   ],
   "source": [
    "neigh_ins.fit(x_train, y_train.values.ravel())"
   ]
  },
  {
   "cell_type": "code",
   "execution_count": 22,
   "metadata": {},
   "outputs": [],
   "source": [
    "# get results\n",
    "best_score = neigh_ins.best_score_\n",
    "best_estimator = neigh_ins.best_estimator_\n",
    "best_params = neigh_ins.best_params_"
   ]
  },
  {
   "cell_type": "code",
   "execution_count": 23,
   "metadata": {},
   "outputs": [],
   "source": [
    "# write results to file\n",
    "f = open(\"results/files/RandomForest_tuning_results.txt\", \"w+\")\n",
    "\n",
    "f.write(\"Best score = {0} \\n\".format(best_score))\n",
    "f.write(\"Best estimator = {0} \\n\".format(best_estimator))\n",
    "f.write(\"Best params = {0} \\n\".format(best_params))\n",
    "\n",
    "f.close()"
   ]
  },
  {
   "cell_type": "code",
   "execution_count": 24,
   "metadata": {},
   "outputs": [],
   "source": [
    "forest = ensemble.RandomForestClassifier(n_estimators = 45, max_depth = 9, max_features=5, min_samples_split=9, min_samples_leaf=24)\n",
    "forest_fit = forest.fit(x_train, y_train)\n",
    "\n"
   ]
  },
  {
   "cell_type": "code",
   "execution_count": 25,
   "metadata": {},
   "outputs": [
    {
     "name": "stdout",
     "output_type": "stream",
     "text": [
      "Feature ranking:\n",
      "1. Current Loan Amount (0.274355)\n",
      "2. Credit Ration per Year (0.268964)\n",
      "3. Credit Score (0.096154)\n",
      "4. Monthly Income (0.076125)\n",
      "5. Annual Income (0.045316)\n",
      "6. Monthly Debt (0.045017)\n",
      "7. Maximum Open Credit (0.036078)\n",
      "8. Current Credit Balance (0.031941)\n",
      "9. Years of Credit History (0.029786)\n",
      "10. Term (0.029046)\n",
      "11. Months since last delinquent (0.025010)\n",
      "12. Number of Open Accounts (0.022950)\n",
      "13. Years in current job (0.016793)\n",
      "14. Number of Credit Problems (0.001864)\n",
      "15. Bankruptcies (0.000603)\n"
     ]
    }
   ],
   "source": [
    "###### Random forest -- Feature Importance ######\n",
    "\n",
    "importances = forest.feature_importances_\n",
    "std = np.std([tree.feature_importances_ for tree in forest.estimators_], axis=0)\n",
    "indices = np.argsort(importances)[::-1]\n",
    "\n",
    "print(\"Feature ranking:\")\n",
    "for f in range(x_train.shape[1]):\n",
    "    print(\"%d. %s (%f)\" % (f + 1, x_train.columns[indices[f]], importances[indices[f]]))"
   ]
  },
  {
   "cell_type": "code",
   "execution_count": 26,
   "metadata": {},
   "outputs": [],
   "source": [
    "# predict\n",
    "train_y_predicted = forest.predict(x_train)\n",
    "test_y_predicted = forest.predict(x_test)"
   ]
  },
  {
   "cell_type": "code",
   "execution_count": 27,
   "metadata": {},
   "outputs": [
    {
     "name": "stdout",
     "output_type": "stream",
     "text": [
      "Training Accuracy: 0.7125400641025641\n",
      "Testing Accuracy: 0.640097600650671\n",
      "AUC: 0.6394422544668514\n",
      "F1: 0.635196846824931\n"
     ]
    },
    {
     "data": {
      "image/png": "[encoded data removed]",
      "text/plain": [
       "<Figure size 432x288 with 1 Axes>"
      ]
     },
     "metadata": {
      "needs_background": "light"
     },
     "output_type": "display_data"
    }
   ],
   "source": [
    "###### Random forest -- Evaluation ######\n",
    "\n",
    "# accuracy\n",
    "train_accuracy = metrics.accuracy_score(y_train, train_y_predicted)\n",
    "test_accuracy = metrics.accuracy_score(y_test, test_y_predicted)\n",
    "print(\"Training Accuracy: {0}\".format(train_accuracy))\n",
    "print(\"Testing Accuracy: {0}\".format(test_accuracy))\n",
    "\n",
    "# AUC index, excellent = 0.9~1, good = 0.8~0.9, soso = 0.7~0.8, not good = 0.6~0.7, bad = 0.6~0.7\n",
    "# AUC is a good way for evaluation for binary classification problem\n",
    "fpr, tpr, thresholds = metrics.roc_curve(y_test, test_y_predicted)\n",
    "auc = metrics.auc(fpr, tpr)\n",
    "print(\"AUC: {0}\".format(auc))\n",
    "\n",
    "# F1\n",
    "f1 = f1_score(y_test, test_y_predicted, average='weighted')\n",
    "print(\"F1: {0}\".format(f1))\n",
    "\n",
    "# ROC curve\n",
    "false_positive_rate, true_positive_rate, thresholds = roc_curve(y_test, test_y_predicted)\n",
    "plt.plot(fpr,tpr,marker = 'o')\n",
    "plt.show()"
   ]
  },
  {
   "cell_type": "code",
   "execution_count": 28,
   "metadata": {},
   "outputs": [],
   "source": [
    "# write result to file\n",
    "f = open(\"results/files/randomForest.txt\", \"w+\")\n",
    "f.write(\"Final F1 Score = {0} \\n\".format(f1))\n",
    "f.write(\"Training Accuracy = {0} \\n\".format(train_accuracy))\n",
    "f.write(\"Testing Accuracy = {0} \\n\".format(test_accuracy))\n",
    "f.write(\"AUC = {0} \\n\".format(auc))\n",
    "f.close()"
   ]
  },
  {
   "cell_type": "code",
   "execution_count": null,
   "metadata": {},
   "outputs": [],
   "source": []
  }
 ],
 "metadata": {
  "kernelspec": {
   "display_name": "Python 3",
   "language": "python",
   "name": "python3"
  },
  "language_info": {
   "codemirror_mode": {
    "name": "ipython",
    "version": 3
   },
   "file_extension": ".py",
   "mimetype": "text/x-python",
   "name": "python",
   "nbconvert_exporter": "python",
   "pygments_lexer": "ipython3",
   "version": "3.7.3"
  }
 },
 "nbformat": 4,
 "nbformat_minor": 2
}
