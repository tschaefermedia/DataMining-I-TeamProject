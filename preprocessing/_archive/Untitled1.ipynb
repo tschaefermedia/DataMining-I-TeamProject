{
 "cells": [
  {
   "cell_type": "code",
   "execution_count": 2,
   "metadata": {},
   "outputs": [
    {
     "name": "stdout",
     "output_type": "stream",
     "text": [
      "16\n"
     ]
    }
   ],
   "source": [
    "cols = [\"Term\",\n",
    "\"Credit Score\",\n",
    "\"Annual Income\",\n",
    "\"Years in current job\",\n",
    "\"Monthly Debt\",\n",
    "\"Years of Credit History\",\n",
    "\"Months since last delinquent\",\n",
    "\"Number of Open Accounts\",\n",
    "\"Number of Credit Problems\",\n",
    "\"Current Credit Balance\",\n",
    "\"Maximum Open Credit\",\n",
    "\"Bankruptcies\",\n",
    "\"Tax Liens\",\n",
    "\"Monthly Income\",\n",
    "\"Credit Ration per Year\"]\n",
    "\n",
    "print(len(cols)+1)"
   ]
  },
  {
   "cell_type": "code",
   "execution_count": 3,
   "metadata": {},
   "outputs": [
    {
     "name": "stdout",
     "output_type": "stream",
     "text": [
      "range(0, 16)\n"
     ]
    }
   ],
   "source": [
    "print(range(0, len(cols)+1))"
   ]
  },
  {
   "cell_type": "code",
   "execution_count": null,
   "metadata": {},
   "outputs": [],
   "source": []
  }
 ],
 "metadata": {
  "kernelspec": {
   "display_name": "Python 3",
   "language": "python",
   "name": "python3"
  },
  "language_info": {
   "codemirror_mode": {
    "name": "ipython",
    "version": 3
   },
   "file_extension": ".py",
   "mimetype": "text/x-python",
   "name": "python",
   "nbconvert_exporter": "python",
   "pygments_lexer": "ipython3",
   "version": "3.7.3"
  }
 },
 "nbformat": 4,
 "nbformat_minor": 2
}
