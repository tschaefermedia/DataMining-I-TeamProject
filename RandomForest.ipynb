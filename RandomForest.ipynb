{
 "cells": [
  {
   "cell_type": "code",
   "execution_count": 47,
   "metadata": {},
   "outputs": [],
   "source": [
    "# imports \n",
    "import functions\n",
    "import pandas as pd\n",
    "import numpy as np\n",
    "import matplotlib.pyplot as plt\n",
    "import sklearn\n",
    "from sklearn.model_selection import train_test_split\n",
    "from sklearn import ensemble, preprocessing, metrics\n",
    "from sklearn.model_selection import cross_val_score\n",
    "from sklearn.metrics import f1_score\n",
    "from sklearn.metrics import roc_curve, auc\n",
    "from sklearn import preprocessing\n",
    "import seaborn as sns"
   ]
  },
  {
   "cell_type": "code",
   "execution_count": 48,
   "metadata": {},
   "outputs": [],
   "source": [
    "#x, y = functions.get_data(standard=False,minmax=True)\n",
    "data_processed = pd.read_csv(\"data/original_dataset_credit_score_corrected.csv\", index_col=0)\n",
    "\n",
    "x, y = data_processed.drop(columns='Loan Status'), data_processed['Loan Status']\n",
    "\n",
    "#standard_scaler = preprocessing.StandardScaler()\n",
    "#min_max_scaler = preprocessing.MinMaxScaler()\n",
    "\n",
    "#x_train['Term'] = x_train['Term'].astype('float64')\n",
    "#x_train_standard = pd.DataFrame(standard_scaler.fit_transform(x_train), columns=x_train.columns)\n",
    "#x = pd.DataFrame(min_max_scaler.fit_transform(x_train), columns=x_train.columns)\n",
    "\n",
    "#y = pd.DataFrame(y_train)"
   ]
  },
  {
   "cell_type": "code",
   "execution_count": 49,
   "metadata": {},
   "outputs": [],
   "source": [
    "from sklearn.utils import resample\n",
    "import copy"
   ]
  },
  {
   "cell_type": "code",
   "execution_count": 50,
   "metadata": {},
   "outputs": [
    {
     "data": {
      "text/plain": [
       "Index(['Current Loan Amount', 'Credit Score', 'Annual Income',\n",
       "       'Years in current job', 'Monthly Debt', 'Years of Credit History',\n",
       "       'Months since last delinquent', 'Number of Open Accounts',\n",
       "       'Number of Credit Problems', 'Current Credit Balance',\n",
       "       'Maximum Open Credit', 'Bankruptcies', 'Tax Liens', 'Term_Long Term',\n",
       "       'Term_Short Term', 'Home Ownership_HaveMortgage',\n",
       "       'Home Ownership_Home Mortgage', 'Home Ownership_Own Home',\n",
       "       'Home Ownership_Rent', 'Purpose_Debt Consolidation', 'Purpose_Other'],\n",
       "      dtype='object')"
      ]
     },
     "execution_count": 50,
     "metadata": {},
     "output_type": "execute_result"
    }
   ],
   "source": [
    "x.columns"
   ]
  },
  {
   "cell_type": "code",
   "execution_count": 51,
   "metadata": {},
   "outputs": [],
   "source": [
    "df = copy.copy(x)\n",
    "df['Loan Status'] = y"
   ]
  },
  {
   "cell_type": "code",
   "execution_count": 52,
   "metadata": {},
   "outputs": [
    {
     "data": {
      "text/plain": [
       "5496"
      ]
     },
     "execution_count": 52,
     "metadata": {},
     "output_type": "execute_result"
    }
   ],
   "source": [
    "len(y[y == 1])"
   ]
  },
  {
   "cell_type": "code",
   "execution_count": 53,
   "metadata": {},
   "outputs": [
    {
     "data": {
      "text/plain": [
       "0    28972\n",
       "1     5496\n",
       "Name: Loan Status, dtype: int64"
      ]
     },
     "execution_count": 53,
     "metadata": {},
     "output_type": "execute_result"
    }
   ],
   "source": [
    "# Separate majority and minority classes\n",
    "df_majority = df[df['Loan Status'] ==0]\n",
    "df_minority = df[df['Loan Status'] ==1]\n",
    " \n",
    "# Upsample minority class\n",
    "df_minority_upsampled = resample(df_minority, \n",
    "                                 replace=True,      # sample with replacement\n",
    "                                 n_samples=5496,    # to match majority class\n",
    "                                 random_state=123)  # reproducible results\n",
    " \n",
    "# Combine majority class with upsampled minority class\n",
    "df_upsampled = pd.concat([df_majority, df_minority_upsampled])\n",
    " \n",
    "# Display new class counts\n",
    "df_upsampled['Loan Status'].value_counts()\n",
    "# 1    7451\n",
    "# 0    7451"
   ]
  },
  {
   "cell_type": "code",
   "execution_count": 54,
   "metadata": {},
   "outputs": [],
   "source": [
    "# split dataset into train and test data\n",
    "x_train, x_test, y_train, y_test = train_test_split(df_upsampled.drop(columns='Loan Status'), df_upsampled['Loan Status'], test_size=0.33, random_state=10)\n"
   ]
  },
  {
   "cell_type": "code",
   "execution_count": 55,
   "metadata": {},
   "outputs": [
    {
     "name": "stdout",
     "output_type": "stream",
     "text": [
      "23093\n",
      "23093\n",
      "11375\n",
      "11375\n"
     ]
    }
   ],
   "source": [
    "print(len(x_train))\n",
    "print(len(y_train))\n",
    "print(len(x_test))\n",
    "print(len(y_test))"
   ]
  },
  {
   "cell_type": "code",
   "execution_count": 58,
   "metadata": {},
   "outputs": [
    {
     "data": {
      "text/plain": [
       "19404"
      ]
     },
     "execution_count": 58,
     "metadata": {},
     "output_type": "execute_result"
    }
   ],
   "source": [
    "len(y_train[y_train == 0])"
   ]
  },
  {
   "cell_type": "code",
   "execution_count": 11,
   "metadata": {
    "scrolled": true
   },
   "outputs": [],
   "source": [
    "###### Random forest ######\n",
    "scores = []\n",
    "\n",
    "forest = ensemble.RandomForestClassifier(n_estimators = 10, max_depth = 10)\n",
    "#forest_fit = forest.fit(x_train, y_train)\n",
    "\n",
    "# training - get results\n",
    "scores.append(cross_val_score(forest, x_train, y_train, cv = 15))"
   ]
  },
  {
   "cell_type": "code",
   "execution_count": 12,
   "metadata": {},
   "outputs": [],
   "source": [
    "from skopt.space import Real, Integer\n",
    "from skopt.utils import use_named_args\n",
    "\n",
    "n_features = x_train.shape[1]\n",
    "\n",
    "# The list of hyper-parameters we want to optimize. For each one we define the bounds,\n",
    "# the corresponding scikit-learn parameter name, as well as how to sample values\n",
    "# from that dimension (`'log-uniform'` for the learning rate)\n",
    "space  = [Integer(5, 50, name='n_estimators'),\n",
    "          Integer(1, 50, name='max_depth'),\n",
    "          Integer(1, n_features, name='max_features'),\n",
    "          #Integer(2, 100, name='min_samples_split'),\n",
    "          Integer(1, 100, name='min_samples_leaf')]\n",
    "\n",
    "# this decorator allows your objective function to receive a the parameters as\n",
    "# keyword arguments. This is particularly convenient when you want to set scikit-learn\n",
    "# estimator parameters\n",
    "@use_named_args(space)\n",
    "def objective(**params):\n",
    "    forest.set_params(**params)\n",
    "\n",
    "    return -np.mean(cross_val_score(forest, x_train, y_train, cv=20, n_jobs=-1,\n",
    "                                    scoring=\"f1\"))\n",
    "#scoring=\"neg_mean_absolute_error\""
   ]
  },
  {
   "cell_type": "code",
   "execution_count": 13,
   "metadata": {
    "scrolled": true
   },
   "outputs": [
    {
     "name": "stderr",
     "output_type": "stream",
     "text": [
      "/Users/ghost/anaconda3/lib/python3.7/site-packages/skopt/optimizer/optimizer.py:399: UserWarning: The objective has been evaluated at this point before.\n",
      "  warnings.warn(\"The objective has been evaluated \"\n",
      "/Users/ghost/anaconda3/lib/python3.7/site-packages/skopt/optimizer/optimizer.py:399: UserWarning: The objective has been evaluated at this point before.\n",
      "  warnings.warn(\"The objective has been evaluated \"\n"
     ]
    },
    {
     "data": {
      "text/plain": [
       "'Best score=-0.7400'"
      ]
     },
     "execution_count": 13,
     "metadata": {},
     "output_type": "execute_result"
    }
   ],
   "source": [
    "from skopt import gp_minimize\n",
    "forest_gp = gp_minimize(objective, space, n_calls=25, random_state=0)\n",
    "\n",
    "\"Best score=%.4f\" % forest_gp.fun"
   ]
  },
  {
   "cell_type": "code",
   "execution_count": 14,
   "metadata": {},
   "outputs": [
    {
     "name": "stdout",
     "output_type": "stream",
     "text": [
      "Best parameters:\n",
      "- n_estimators=50\n",
      "- max_depth=50\n",
      "- max_features=1\n",
      "- min_samples_leaf=1\n"
     ]
    }
   ],
   "source": [
    "print(\"\"\"Best parameters:\n",
    "- n_estimators=%d\n",
    "- max_depth=%d\n",
    "- max_features=%d\n",
    "- min_samples_leaf=%d\"\"\" % (forest_gp.x[0], forest_gp.x[1], \n",
    "                            forest_gp.x[2], forest_gp.x[3], \n",
    "                            )) #- min_samples_split=%d forest_gp.x[4]"
   ]
  },
  {
   "cell_type": "code",
   "execution_count": 15,
   "metadata": {},
   "outputs": [
    {
     "data": {
      "text/plain": [
       "<matplotlib.axes._subplots.AxesSubplot at 0x1a2015c240>"
      ]
     },
     "execution_count": 15,
     "metadata": {},
     "output_type": "execute_result"
    },
    {
     "data": {
      "image/png": "[encoded data removed]",
      "text/plain": [
       "<Figure size 432x288 with 1 Axes>"
      ]
     },
     "metadata": {
      "needs_background": "light"
     },
     "output_type": "display_data"
    }
   ],
   "source": [
    "from skopt.plots import plot_convergence\n",
    "\n",
    "plot_convergence(forest_gp)"
   ]
  },
  {
   "cell_type": "code",
   "execution_count": 16,
   "metadata": {},
   "outputs": [],
   "source": [
    "forest = ensemble.RandomForestClassifier(n_estimators = 50, max_depth = 50, max_features=1, min_samples_leaf=1)\n",
    "forest_fit = forest.fit(x_train, y_train)\n",
    "\n",
    "#  min_samples_split=2,\n"
   ]
  },
  {
   "cell_type": "code",
   "execution_count": 17,
   "metadata": {},
   "outputs": [
    {
     "name": "stdout",
     "output_type": "stream",
     "text": [
      "Feature ranking:\n",
      "1. Current Loan Amount (0.117091)\n",
      "2. Annual Income (0.103848)\n",
      "3. Credit Score (0.101455)\n",
      "4. Monthly Debt (0.100187)\n",
      "5. Current Credit Balance (0.099739)\n",
      "6. Maximum Open Credit (0.098242)\n",
      "7. Years of Credit History (0.097587)\n",
      "8. Months since last delinquent (0.093281)\n",
      "9. Number of Open Accounts (0.075863)\n",
      "10. Years in current job (0.053533)\n",
      "11. Number of Credit Problems (0.011260)\n",
      "12. Term_Long Term (0.008495)\n",
      "13. Bankruptcies (0.007141)\n",
      "14. Term_Short Term (0.006629)\n",
      "15. Home Ownership_Home Mortgage (0.005648)\n",
      "16. Home Ownership_Rent (0.005190)\n",
      "17. Tax Liens (0.004206)\n",
      "18. Purpose_Other (0.003707)\n",
      "19. Purpose_Debt Consolidation (0.003607)\n",
      "20. Home Ownership_Own Home (0.002970)\n",
      "21. Home Ownership_HaveMortgage (0.000322)\n"
     ]
    }
   ],
   "source": [
    "###### Random forest -- Feature Importance ######\n",
    "\n",
    "importances = forest.feature_importances_\n",
    "std = np.std([tree.feature_importances_ for tree in forest.estimators_], axis=0)\n",
    "indices = np.argsort(importances)[::-1]\n",
    "\n",
    "print(\"Feature ranking:\")\n",
    "for f in range(x_train.shape[1]):\n",
    "    print(\"%d. %s (%f)\" % (f + 1, x_train.columns[indices[f]], importances[indices[f]]))"
   ]
  },
  {
   "cell_type": "code",
   "execution_count": 18,
   "metadata": {},
   "outputs": [],
   "source": [
    "# predict\n",
    "train_y_predicted = forest.predict(x_train)\n",
    "test_y_predicted = forest.predict(x_test)"
   ]
  },
  {
   "cell_type": "code",
   "execution_count": 19,
   "metadata": {},
   "outputs": [
    {
     "name": "stdout",
     "output_type": "stream",
     "text": [
      "Training Accuracy: 0.9999180428635823\n",
      "Testing Accuracy: 0.9175540765391015\n",
      "AUC: 0.8000012305723393\n",
      "F1: 0.9095023544372938\n"
     ]
    },
    {
     "data": {
      "image/png": "[encoded data removed]",
      "text/plain": [
       "<Figure size 432x288 with 1 Axes>"
      ]
     },
     "metadata": {
      "needs_background": "light"
     },
     "output_type": "display_data"
    }
   ],
   "source": [
    "###### Random forest -- Evaluation ######\n",
    "\n",
    "# accuracy\n",
    "train_accuracy = metrics.accuracy_score(y_train, train_y_predicted)\n",
    "test_accuracy = metrics.accuracy_score(y_test, test_y_predicted)\n",
    "print(\"Training Accuracy: {0}\".format(train_accuracy))\n",
    "print(\"Testing Accuracy: {0}\".format(test_accuracy))\n",
    "\n",
    "# AUC index, excellent = 0.9~1, good = 0.8~0.9, soso = 0.7~0.8, not good = 0.6~0.7, bad = 0.6~0.7\n",
    "# AUC is a good way for evaluation for binary classification problem\n",
    "fpr, tpr, thresholds = metrics.roc_curve(y_test, test_y_predicted)\n",
    "auc = metrics.auc(fpr, tpr)\n",
    "print(\"AUC: {0}\".format(auc))\n",
    "\n",
    "# F1\n",
    "f1 = f1_score(y_test, test_y_predicted, average='weighted')\n",
    "print(\"F1: {0}\".format(f1))\n",
    "\n",
    "# ROC curve\n",
    "false_positive_rate, true_positive_rate, thresholds = roc_curve(y_test, test_y_predicted)\n",
    "plt.plot(fpr,tpr,marker = 'o')\n",
    "plt.show()"
   ]
  },
  {
   "cell_type": "code",
   "execution_count": 59,
   "metadata": {},
   "outputs": [
    {
     "data": {
      "text/plain": [
       "<Figure size 432x288 with 0 Axes>"
      ]
     },
     "metadata": {},
     "output_type": "display_data"
    }
   ],
   "source": [
    "# write result to file\n",
    "plt.savefig('results/files/RF/randomForest_original.png')\n",
    "\n",
    "f = open(\"results/files/RF/randomForest_original.txt\", \"w+\")\n",
    "f.write(\"Dataset: original_dataset_credit_score_corrected.csv\\n\")\n",
    "f.write(\"algorithm: RandomForest\\n\")\n",
    "f.write(\"sampling: Yes\\n\")\n",
    "f.write(\"normalization: Yes\\n\")\n",
    "f.write(\"extracting new features: No\\n\")\n",
    "f.write(\"-------------------------------------------------------\\n\")\n",
    "f.write(\"[ hyper-para ]\\n\")\n",
    "f.write(\"n_estimators = {0} \\n\".format(forest_gp.x[0]))\n",
    "f.write(\"max_depth = {0} \\n\".format(forest_gp.x[1]))\n",
    "f.write(\"max_features = {0} \\n\".format(forest_gp.x[2]))\n",
    "f.write(\"min_samples_leaf = {0} \\n\".format(forest_gp.x[3]))\n",
    "f.write(\"-------------------------------------------------------\\n\")\n",
    "f.write(\"[ evaluation ]\\n\")\n",
    "f.write(\"Final F1 Score = {0} \\n\".format(f1))\n",
    "f.write(\"Training Accuracy = {0} \\n\".format(train_accuracy))\n",
    "f.write(\"Testing Accuracy = {0} \\n\".format(test_accuracy))\n",
    "f.write(\"AUC = {0} \\n\".format(auc))\n",
    "#f.write(\"Training Confusion Matrix\\n {0} \\n\".format(metrics.confusion_matrix(y_train, train_y_predicted)))\n",
    "#f.write(\"Testing Confusion Matrix\\n {0} \\n\".format(metrics.confusion_matrix(y_test, test_y_predicted)))\n",
    "f.close()"
   ]
  },
  {
   "cell_type": "code",
   "execution_count": null,
   "metadata": {},
   "outputs": [],
   "source": []
  },
  {
   "cell_type": "code",
   "execution_count": null,
   "metadata": {},
   "outputs": [],
   "source": []
  }
 ],
 "metadata": {
  "kernelspec": {
   "display_name": "Python 3",
   "language": "python",
   "name": "python3"
  },
  "language_info": {
   "codemirror_mode": {
    "name": "ipython",
    "version": 3
   },
   "file_extension": ".py",
   "mimetype": "text/x-python",
   "name": "python",
   "nbconvert_exporter": "python",
   "pygments_lexer": "ipython3",
   "version": "3.7.3"
  }
 },
 "nbformat": 4,
 "nbformat_minor": 2
}
